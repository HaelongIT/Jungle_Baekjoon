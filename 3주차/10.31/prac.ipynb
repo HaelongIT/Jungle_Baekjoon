{
 "cells": [
  {
   "cell_type": "markdown",
   "metadata": {},
   "source": [
    "11053"
   ]
  },
  {
   "cell_type": "code",
   "execution_count": null,
   "metadata": {},
   "outputs": [],
   "source": [
    "n = int(input())\n",
    "array = list(map(int, input().split()))\n",
    "\n",
    "dp = [1] * n\n",
    "for i in range(1, n):\n",
    "    for j in range(0, i):\n",
    "        if array[j] < array[i]:\n",
    "            dp[i] = max(dp[i], dp[j] + 1)\n",
    "\n",
    "print(max(dp))"
   ]
  },
  {
   "cell_type": "code",
   "execution_count": 2,
   "metadata": {},
   "outputs": [
    {
     "name": "stdout",
     "output_type": "stream",
     "text": [
      "4\n"
     ]
    }
   ],
   "source": [
    "n = int(input())\n",
    "array = list(map(int, input().split()))\n",
    "\n",
    "dp = [1] * n\n",
    "\n",
    "for i in range(1,n):\n",
    "    for j in range(i):\n",
    "        if array[i] > array[j]:\n",
    "            dp[i] = max(dp[i], dp[j]+1)\n",
    "\n",
    "print(max(dp))"
   ]
  },
  {
   "cell_type": "markdown",
   "metadata": {},
   "source": [
    "11049"
   ]
  },
  {
   "cell_type": "code",
   "execution_count": 3,
   "metadata": {},
   "outputs": [
    {
     "name": "stdout",
     "output_type": "stream",
     "text": [
      "[(5, 3), (3, 2), (2, 6)]\n"
     ]
    }
   ],
   "source": [
    "n = int(input())\n",
    "\n",
    "dp = []\n",
    "\n",
    "for i in range(n):\n",
    "    A, B = map(int, input().split())\n",
    "    dp.append((A, B))\n",
    "\n",
    "print(dp)"
   ]
  },
  {
   "cell_type": "markdown",
   "metadata": {},
   "source": [
    "1946"
   ]
  },
  {
   "cell_type": "code",
   "execution_count": null,
   "metadata": {},
   "outputs": [],
   "source": [
    "import sys\n",
    "T=int(input())\n",
    "for _ in range(T):\n",
    "    N=int(input())\n",
    "    L=[ [0,0] for i in range(N) ]\n",
    "\n",
    "    for i in range(N):\n",
    "       L[i][0],L[i][1] = map(int,sys.stdin.readline().split())\n",
    "    L.sort()\n",
    "    new_worker=0\n",
    "    max_rank=L[0][1]\n",
    "\n",
    "    for i in range(N):\n",
    "        if L[i][1] <= max_rank:\n",
    "            new_worker += 1\n",
    "            max_rank=L[i][1]\n",
    "\n",
    "print(new_worker)"
   ]
  },
  {
   "cell_type": "code",
   "execution_count": 4,
   "metadata": {},
   "outputs": [
    {
     "name": "stdout",
     "output_type": "stream",
     "text": [
      "4\n",
      "3\n"
     ]
    }
   ],
   "source": [
    "import sys\n",
    "sys.stdin=open(\"test.txt\")\n",
    "input = sys.stdin.readline\n",
    "\n",
    "T=int(input())\n",
    "# 테스트 케이스 : 몇번 신입사원을 선발할 것이냐\n",
    "\n",
    "for _ in range(T):\n",
    "    N=int(input())\n",
    "    L=[ [0,0] for i in range(N) ]\n",
    "\n",
    "    for i in range(N):\n",
    "       L[i][0],L[i][1] = map(int,sys.stdin.readline().split())\n",
    "    L.sort()\n",
    "    new_worker=0\n",
    "    max_rank=L[0][1]\n",
    "\n",
    "    for i in range(N):\n",
    "        if L[i][1] <= max_rank:\n",
    "            new_worker += 1\n",
    "            max_rank=L[i][1]\n",
    "    print(new_worker)"
   ]
  },
  {
   "cell_type": "code",
   "execution_count": null,
   "metadata": {},
   "outputs": [],
   "source": [
    "import sys\n",
    "T=int(input())\n",
    "for _ in range(T):\n",
    "    N=int(input())\n",
    "    L=[ [0,0] for i in range(N) ]\n",
    "    for i in range(N):\n",
    "       L[i][0],L[i][1] = map(int,sys.stdin.readline().split())\n",
    "    L.sort()\n",
    "    new_worker=0\n",
    "    max_rank=L[0][1]\n",
    "    for i in range(N):\n",
    "        if L[i][1] <= max_rank:\n",
    "            new_worker += 1\n",
    "            max_rank=L[i][1]\n",
    "    print(new_worker)"
   ]
  },
  {
   "cell_type": "code",
   "execution_count": null,
   "metadata": {},
   "outputs": [],
   "source": [
    "import sys\n",
    "T = int(input())\n",
    "\n",
    "for _ in range(T):\n",
    "    N = int(input())\n",
    "    Li = [[0,0] for _ in range(N)]\n",
    "\n",
    "    for i in range(N):\n",
    "        Li[i][0], Li[i][1] = map(int, input().split())\n",
    "    Li.sort()\n",
    "\n",
    "    new_worker = 0\n",
    "    max_rank = Li[0][1]\n",
    "\n",
    "    for i in range(N):\n",
    "        if Li[i][1] <= max_rank:\n",
    "            new_worker += 1\n",
    "            max_rank = Li[i][1]\n",
    "\n",
    "    print(new_worker)"
   ]
  },
  {
   "cell_type": "markdown",
   "metadata": {},
   "source": [
    "11049"
   ]
  },
  {
   "cell_type": "code",
   "execution_count": null,
   "metadata": {},
   "outputs": [],
   "source": [
    "import sys\n",
    "input = sys.stdin.readline\n",
    "\n",
    "N = int(input())\n",
    "matrix = [list(map(int, input().split())) for i in range(N)]\n",
    "# dp[i][j]는 i번재 행렬에서 j번째 행렬까지 곱한\n",
    "dp = [[0] * N for _ in range(N)]\n",
    "for i in range(1, N): #몇 번째 대각선? 0번째 대각선은 자기자신이므로 0유지.\n",
    "    for j in range(0, N-i): #대각선에서 몇 번째 열?(N*N에서 반만 채우므로 대각선 번호가 끝으로 갈수록 계산해야되는 칸도 하나씩 줄어감)\n",
    "        x = i+j             # 차이가0인 본인대각선 모든값 0 -> 첫 대각선 계산수 N-1 -> 두번째 대각선 계산수 N-2 .... N번째 대각선 1회. \n",
    "        if i == 1:          # x는 i번째 대각선의 j번째 열. 대각선은 한칸마다 1,1씩 증가해야하므로 j가 양쪽에 들어가 1씩 증가시켜준다.i는 표준편차의 크기.\n",
    "            dp[j][x] = matrix[j][0] * matrix[j][1] * matrix[x][1]   # 계산 횟수는 가운데 낀 숫자는 1번 맨앞, 맨뒤숫자 1번씩 곱.\n",
    "            continue\n",
    "        \n",
    "        dp[j][x] = 2**32 #최댓값을 미리 넣어줌(min연산을 위해 inf값 할당해주듯)\n",
    "        #k는 A~E중 어디를 자르는가의 문제. ex ABC라면 AB,C / A,BC \n",
    "        #즉 k에따라 콤마위치가 변하고 dp[j][k]는 j부터 k행렬까지의 최소값, dp[k+1][x]는 K+1에서 x까지의 최솟값\n",
    "        #뒤에 곱하는 dp는 앞행렬과 뒷행렬을 곱하는 횟수(A의 행수*자르는index인 k의 열수*마지막인자인 x의 열수)\n",
    "        for k in range(j, x):           \n",
    "            dp[j][x] = min(dp[j][x], dp[j][k] + dp[k+1][x] + matrix[j][0] * matrix[k][1] * matrix[x][1])\n",
    "                \n",
    "    \n",
    "print(dp[0][N-1]) #맨 오른쪽 위"
   ]
  },
  {
   "cell_type": "code",
   "execution_count": null,
   "metadata": {},
   "outputs": [],
   "source": [
    "N = int(input())\n",
    "matrix = []\n",
    "for _ in range(N):\n",
    "    m1, m2 = map(int, input().split())\n",
    "    matrix.append((m1, m2))\n",
    "\n",
    "dp = [[2**31] * N for _ in range(N)]\n",
    "\n",
    "def mul_mat(i, j):\n",
    "    \n",
    "    if dp[i][j] != 2**31:\n",
    "        return dp[i][j]\n",
    "    \n",
    "    if i == j:\n",
    "        dp[i][j] = 0\n",
    "        return 0\n",
    "    if j == i+1:\n",
    "        dp[i][j] = matrix[i][0] * matrix[i][1] * matrix[j][1]\n",
    "        return dp[i][j]\n",
    "        \n",
    "    ret = 2**31\n",
    "    for k in range(i, j):\n",
    "        tmp = mul_mat(i, k) + mul_mat(k+1, j) + matrix[i][0]*matrix[k][1]*matrix[j][1]\n",
    "        ret = min(ret, tmp)\n",
    "       \n",
    "    \n",
    "    dp[i][j] = ret\n",
    "    return ret\n",
    "\n",
    "ans = mul_mat(0, N-1)\n",
    "print(ans)"
   ]
  }
 ],
 "metadata": {
  "kernelspec": {
   "display_name": "Python 3",
   "language": "python",
   "name": "python3"
  },
  "language_info": {
   "codemirror_mode": {
    "name": "ipython",
    "version": 3
   },
   "file_extension": ".py",
   "mimetype": "text/x-python",
   "name": "python",
   "nbconvert_exporter": "python",
   "pygments_lexer": "ipython3",
   "version": "3.11.6"
  }
 },
 "nbformat": 4,
 "nbformat_minor": 2
}
