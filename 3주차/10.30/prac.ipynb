{
 "cells": [
  {
   "cell_type": "markdown",
   "metadata": {},
   "source": [
    "1541"
   ]
  },
  {
   "cell_type": "code",
   "execution_count": 1,
   "metadata": {},
   "outputs": [
    {
     "name": "stdout",
     "output_type": "stream",
     "text": [
      "['55', '50+40']\n"
     ]
    }
   ],
   "source": [
    "n = str(input().split('-'))\n",
    "\n",
    "print(n)"
   ]
  },
  {
   "cell_type": "code",
   "execution_count": 13,
   "metadata": {},
   "outputs": [
    {
     "name": "stdout",
     "output_type": "stream",
     "text": [
      "-35\n"
     ]
    }
   ],
   "source": [
    "n = str(input())\n",
    "m = n.split('-')\n",
    "\n",
    "# print(n)\n",
    "ans = 0\n",
    "\n",
    "x = sum(map(int, m[0].split('+')))\n",
    "if n[0] == '-':\n",
    "    ans -= x\n",
    "\n",
    "else:\n",
    "    ans += x\n",
    "\n",
    "for i in m[1:]:\n",
    "    x = sum(map(int, i.split('+')))\n",
    "    ans -= x\n",
    "\n",
    "print(ans)"
   ]
  },
  {
   "cell_type": "code",
   "execution_count": 14,
   "metadata": {},
   "outputs": [
    {
     "name": "stdout",
     "output_type": "stream",
     "text": [
      "-35\n"
     ]
    }
   ],
   "source": [
    "n = str(input())\n",
    "m = n.split('-')\n",
    "\n",
    "ans = 0\n",
    "\n",
    "x = sum(map(int,m[0].split('+')))\n",
    "if n[0] == '-':\n",
    "    ans -= x\n",
    "else:\n",
    "    ans += x\n",
    "\n",
    "for i in m[1:]:\n",
    "    x = sum(map(int, i.split('+')))\n",
    "\n",
    "    ans -= x\n",
    "\n",
    "print(ans)"
   ]
  },
  {
   "cell_type": "markdown",
   "metadata": {},
   "source": [
    "11053"
   ]
  },
  {
   "cell_type": "code",
   "execution_count": 17,
   "metadata": {},
   "outputs": [
    {
     "name": "stdout",
     "output_type": "stream",
     "text": [
      "12\n"
     ]
    }
   ],
   "source": [
    "N = int(input())\n",
    "\n",
    "A = list(map(int, input().split()))\n",
    "\n",
    "curr = 0\n",
    "num = 1\n",
    "\n",
    "for i in range(N):\n",
    "    for j in range(i+1, N):\n",
    "        curr = A[i]\n",
    "        if A[i] < A[j]:\n",
    "            num += 1\n",
    "            continue\n",
    "\n",
    "print(num)"
   ]
  }
 ],
 "metadata": {
  "kernelspec": {
   "display_name": "Python 3",
   "language": "python",
   "name": "python3"
  },
  "language_info": {
   "codemirror_mode": {
    "name": "ipython",
    "version": 3
   },
   "file_extension": ".py",
   "mimetype": "text/x-python",
   "name": "python",
   "nbconvert_exporter": "python",
   "pygments_lexer": "ipython3",
   "version": "3.11.6"
  }
 },
 "nbformat": 4,
 "nbformat_minor": 2
}
