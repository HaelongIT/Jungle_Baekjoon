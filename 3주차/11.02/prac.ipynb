{
 "cells": [
  {
   "cell_type": "markdown",
   "metadata": {},
   "source": [
    "2579"
   ]
  },
  {
   "cell_type": "markdown",
   "metadata": {},
   "source": [
    "규칙\n",
    "1. 계단은 +1 또는 +2\n",
    "2. 연속으로 3개의 계단을 밟을 수는 없음\n",
    "3. 마지막 계단은 반드시 밟아야 함\n",
    "\n",
    "입력\n",
    "계단의 갯수\n",
    "계단의 점수\n",
    "\n",
    "출력 : 최댓값"
   ]
  },
  {
   "cell_type": "code",
   "execution_count": 3,
   "metadata": {},
   "outputs": [
    {
     "name": "stdout",
     "output_type": "stream",
     "text": [
      "[1, 2, 3, 4]\n",
      "[1, 2, 3]\n",
      "[1, 2]\n"
     ]
    }
   ],
   "source": [
    "data = [1, 2, 3, 4]\n",
    "print(data)\n",
    "print(data[:-1])\n",
    "print(data[:-2])"
   ]
  },
  {
   "cell_type": "code",
   "execution_count": 6,
   "metadata": {},
   "outputs": [
    {
     "ename": "ValueError",
     "evalue": "invalid literal for int() with base 10: ''",
     "output_type": "error",
     "traceback": [
      "\u001b[1;31m---------------------------------------------------------------------------\u001b[0m",
      "\u001b[1;31mValueError\u001b[0m                                Traceback (most recent call last)",
      "\u001b[1;32mc:\\Users\\손용재\\Desktop\\개발자\\정글\\3주차\\11.02\\prac.ipynb 셀 4\u001b[0m line \u001b[0;36m1\n\u001b[1;32m----> <a href='vscode-notebook-cell:/c%3A/Users/%EC%86%90%EC%9A%A9%EC%9E%AC/Desktop/%EA%B0%9C%EB%B0%9C%EC%9E%90/%EC%A0%95%EA%B8%80/3%EC%A3%BC%EC%B0%A8/11.02/prac.ipynb#W0sZmlsZQ%3D%3D?line=0'>1</a>\u001b[0m n \u001b[39m=\u001b[39m \u001b[39mint\u001b[39;49m(\u001b[39minput\u001b[39;49m())\n\u001b[0;32m      <a href='vscode-notebook-cell:/c%3A/Users/%EC%86%90%EC%9A%A9%EC%9E%AC/Desktop/%EA%B0%9C%EB%B0%9C%EC%9E%90/%EC%A0%95%EA%B8%80/3%EC%A3%BC%EC%B0%A8/11.02/prac.ipynb#W0sZmlsZQ%3D%3D?line=2'>3</a>\u001b[0m data \u001b[39m=\u001b[39m []\n\u001b[0;32m      <a href='vscode-notebook-cell:/c%3A/Users/%EC%86%90%EC%9A%A9%EC%9E%AC/Desktop/%EA%B0%9C%EB%B0%9C%EC%9E%90/%EC%A0%95%EA%B8%80/3%EC%A3%BC%EC%B0%A8/11.02/prac.ipynb#W0sZmlsZQ%3D%3D?line=4'>5</a>\u001b[0m \u001b[39msum\u001b[39m \u001b[39m=\u001b[39m \u001b[39m0\u001b[39m\n",
      "\u001b[1;31mValueError\u001b[0m: invalid literal for int() with base 10: ''"
     ]
    }
   ],
   "source": [
    "n = int(input())\n",
    "\n",
    "data = []\n",
    "\n",
    "sum = 0\n",
    "\n",
    "for _ in range(n):\n",
    "    A = int(input())\n",
    "    data.append(A)\n",
    "\n",
    "def stairs(data):\n",
    "    if len(data) <= 1:\n",
    "        return data[0]\n",
    "    else:\n",
    "        maxStair = max(stairs(data[:-1]), stairs(data[:-2]))\n",
    "\n",
    "    sum += maxStair \n",
    "    return sum\n",
    "    \n",
    "\n",
    "stairs(data)"
   ]
  },
  {
   "cell_type": "code",
   "execution_count": null,
   "metadata": {},
   "outputs": [],
   "source": [
    "n = int(input())\n",
    "\n",
    "data = []\n",
    "\n",
    "sumst = 0\n",
    "\n",
    "for _ in range(n):\n",
    "    A = int(input())\n",
    "    data.append(A)\n",
    "\n",
    "def stairs(data):\n",
    "    if len(data) <= 1:\n",
    "        return data[0]\n",
    "    else:\n",
    "        maxStair = max(stairs(data[:-1]), stairs(data[:-2]))\n",
    "\n",
    "    sumst += maxStair \n",
    "    return sumst\n",
    "    \n",
    "\n",
    "stairs(data)"
   ]
  },
  {
   "cell_type": "code",
   "execution_count": null,
   "metadata": {},
   "outputs": [],
   "source": [
    "# gpt 코드\n",
    "\n",
    "n = int(input())\n",
    "data = []\n",
    "\n",
    "for _ in range(n):\n",
    "    A = int(input())\n",
    "    data.append(A)\n",
    "\n",
    "def stairs(data):\n",
    "    if len(data) <= 1:\n",
    "        return data[0]\n",
    "    else:\n",
    "        maxStair = max(stairs(data[:-1]), stairs(data[:-2]))\n",
    "    \n",
    "    return maxStair + data[-1]\n",
    "\n",
    "result = stairs(data)\n",
    "print(result)  # This will print the maximum sum of stairs.\n"
   ]
  },
  {
   "cell_type": "code",
   "execution_count": 9,
   "metadata": {},
   "outputs": [
    {
     "name": "stdout",
     "output_type": "stream",
     "text": [
      "[0, 0, 0]\n"
     ]
    }
   ],
   "source": [
    "n = int(input())\n",
    "\n",
    "dp = [0]*n\n",
    "\n",
    "print(dp)"
   ]
  },
  {
   "cell_type": "code",
   "execution_count": null,
   "metadata": {},
   "outputs": [],
   "source": [
    "# gpt 코드\n",
    "\n",
    "n = int(input())\n",
    "data = []\n",
    "\n",
    "dp = [0]*n\n",
    "\n",
    "for _ in range(n):\n",
    "    A = int(input())\n",
    "    data.append(A)\n",
    "\n",
    "def stairs(data):\n",
    "    if len(data) == 0:\n",
    "        return 0\n",
    "    elif len(data) == 1:\n",
    "        return data[0]\n",
    "    else:\n",
    "        maxStair = max(stairs(data[:-1]), stairs(data[:-2])) + data[-1]\n",
    "    \n",
    "    return maxStair\n",
    "\n",
    "result = stairs(data)\n",
    "print(result)"
   ]
  }
 ],
 "metadata": {
  "kernelspec": {
   "display_name": "Python 3",
   "language": "python",
   "name": "python3"
  },
  "language_info": {
   "codemirror_mode": {
    "name": "ipython",
    "version": 3
   },
   "file_extension": ".py",
   "mimetype": "text/x-python",
   "name": "python",
   "nbconvert_exporter": "python",
   "pygments_lexer": "ipython3",
   "version": "3.11.6"
  }
 },
 "nbformat": 4,
 "nbformat_minor": 2
}
