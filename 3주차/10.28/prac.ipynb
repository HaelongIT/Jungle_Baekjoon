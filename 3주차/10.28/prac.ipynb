{
 "cells": [
  {
   "cell_type": "markdown",
   "metadata": {},
   "source": [
    "9251"
   ]
  },
  {
   "cell_type": "code",
   "execution_count": 2,
   "metadata": {},
   "outputs": [
    {
     "name": "stdout",
     "output_type": "stream",
     "text": [
      "0\n"
     ]
    }
   ],
   "source": [
    "A = list(input())\n",
    "B = list(input())\n",
    "\n",
    "len1 = len(A)\n",
    "len2 = len(B)\n",
    "\n",
    "dp = [[0] * (len2 + 1) for _ in range(len1 + 1)]\n",
    "\n",
    "for i in range(1, len1 + 1):\n",
    "    for j in range(1, len2 + 1):\n",
    "        if A[i-1] == B[j-1]:\n",
    "            dp[i][j] = dp[i-1][j-1] + 1\n",
    "        else:\n",
    "            dp[i-1][j-1] = max(dp[i][j-1], dp[i-1][j])\n",
    "\n",
    "print(dp[len1][len2])\n"
   ]
  },
  {
   "cell_type": "code",
   "execution_count": 5,
   "metadata": {},
   "outputs": [
    {
     "name": "stdout",
     "output_type": "stream",
     "text": [
      "4\n"
     ]
    }
   ],
   "source": [
    "A = list(input())\n",
    "B = list(input())\n",
    "\n",
    "len1 = len(A)\n",
    "len2 = len(B)\n",
    "\n",
    "dp = [[0] * (len2 + 1) for _ in range(len1 + 1)]\n",
    "\n",
    "for i in range(1, len1+1):\n",
    "    for j in range(1,len2 + 1) :\n",
    "        if A[i-1] == B[j-1]:\n",
    "            dp[i][j] = dp[i-1][j-1] + 1\n",
    "        else:\n",
    "            dp[i][j] = max(dp[i-1][j], dp[i][j-1])\n",
    "\n",
    "print(dp[len1][len2])"
   ]
  },
  {
   "cell_type": "markdown",
   "metadata": {},
   "source": [
    "평범한 배낭"
   ]
  },
  {
   "cell_type": "code",
   "execution_count": 7,
   "metadata": {},
   "outputs": [
    {
     "ename": "ValueError",
     "evalue": "not enough values to unpack (expected 2, got 0)",
     "output_type": "error",
     "traceback": [
      "\u001b[1;31m---------------------------------------------------------------------------\u001b[0m",
      "\u001b[1;31mValueError\u001b[0m                                Traceback (most recent call last)",
      "\u001b[1;32mc:\\Users\\손용재\\Desktop\\개발자\\정글\\3주차\\10.28\\prac.ipynb 셀 5\u001b[0m line \u001b[0;36m1\n\u001b[1;32m----> <a href='vscode-notebook-cell:/c%3A/Users/%EC%86%90%EC%9A%A9%EC%9E%AC/Desktop/%EA%B0%9C%EB%B0%9C%EC%9E%90/%EC%A0%95%EA%B8%80/3%EC%A3%BC%EC%B0%A8/10.28/prac.ipynb#W3sZmlsZQ%3D%3D?line=0'>1</a>\u001b[0m N, K \u001b[39m=\u001b[39m \u001b[39mmap\u001b[39m(\u001b[39mint\u001b[39m, \u001b[39minput\u001b[39m()\u001b[39m.\u001b[39msplit())\n\u001b[0;32m      <a href='vscode-notebook-cell:/c%3A/Users/%EC%86%90%EC%9A%A9%EC%9E%AC/Desktop/%EA%B0%9C%EB%B0%9C%EC%9E%90/%EC%A0%95%EA%B8%80/3%EC%A3%BC%EC%B0%A8/10.28/prac.ipynb#W3sZmlsZQ%3D%3D?line=2'>3</a>\u001b[0m dp \u001b[39m=\u001b[39m [[\u001b[39m0\u001b[39m] \u001b[39m*\u001b[39m (K \u001b[39m+\u001b[39m \u001b[39m1\u001b[39m) \u001b[39mfor\u001b[39;00m _ \u001b[39min\u001b[39;00m \u001b[39mrange\u001b[39m(N \u001b[39m+\u001b[39m \u001b[39m1\u001b[39m)]\n\u001b[0;32m      <a href='vscode-notebook-cell:/c%3A/Users/%EC%86%90%EC%9A%A9%EC%9E%AC/Desktop/%EA%B0%9C%EB%B0%9C%EC%9E%90/%EC%A0%95%EA%B8%80/3%EC%A3%BC%EC%B0%A8/10.28/prac.ipynb#W3sZmlsZQ%3D%3D?line=4'>5</a>\u001b[0m \u001b[39mdict\u001b[39m \u001b[39m=\u001b[39m {}\n",
      "\u001b[1;31mValueError\u001b[0m: not enough values to unpack (expected 2, got 0)"
     ]
    }
   ],
   "source": [
    "N, K = map(int, input().split())\n",
    "\n",
    "dp = [[0] * (K + 1) for _ in range(N + 1)]\n",
    "\n",
    "dict = {}\n",
    "\n",
    "for i in range(1, N+1):\n",
    "    W, V = map(int, input().split())\n",
    "    dict[i] = [W, V]\n",
    "\n",
    "# print(dict)\n",
    "\n",
    "# N는 물품 관련, K는 무게 관련\n",
    "for l in range(1, N+1):\n",
    "    for m in range(1, K+1):\n",
    "        if m <= dict[l][1]:\n",
    "            dp[l][m] = max(dp[i-1][j], dp[i-1][j-m])\n",
    "\n",
    "print(dp)"
   ]
  }
 ],
 "metadata": {
  "kernelspec": {
   "display_name": "Python 3",
   "language": "python",
   "name": "python3"
  },
  "language_info": {
   "codemirror_mode": {
    "name": "ipython",
    "version": 3
   },
   "file_extension": ".py",
   "mimetype": "text/x-python",
   "name": "python",
   "nbconvert_exporter": "python",
   "pygments_lexer": "ipython3",
   "version": "3.11.6"
  }
 },
 "nbformat": 4,
 "nbformat_minor": 2
}
