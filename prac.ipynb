{
 "cells": [
  {
   "cell_type": "markdown",
   "metadata": {},
   "source": [
    "1978번"
   ]
  },
  {
   "cell_type": "markdown",
   "metadata": {},
   "source": [
    "약수에 대한"
   ]
  },
  {
   "cell_type": "code",
   "execution_count": 5,
   "metadata": {},
   "outputs": [
    {
     "name": "stdout",
     "output_type": "stream",
     "text": [
      "2\n"
     ]
    }
   ],
   "source": [
    "print(5%3)"
   ]
  },
  {
   "cell_type": "markdown",
   "metadata": {},
   "source": [
    "소수에 대한"
   ]
  },
  {
   "cell_type": "code",
   "execution_count": 20,
   "metadata": {},
   "outputs": [
    {
     "name": "stdout",
     "output_type": "stream",
     "text": [
      "니가 입력한 값은 소수야\n"
     ]
    }
   ],
   "source": [
    "N = int(input())\n",
    "\n",
    "for i in range(2,N):\n",
    "    # print(i)\n",
    "    if N % i == 0:\n",
    "        print('니가 입력한 값은 소수가 아니야')\n",
    "        break"
   ]
  },
  {
   "cell_type": "code",
   "execution_count": null,
   "metadata": {},
   "outputs": [],
   "source": [
    "N = int(input())\n",
    "\n",
    "for i in range(2,N):\n",
    "    # print(i)\n",
    "    if N % i != 0:\n",
    "        print('니가 입력한 값은 소수가 아니야')\n",
    "        break"
   ]
  },
  {
   "cell_type": "code",
   "execution_count": 9,
   "metadata": {},
   "outputs": [],
   "source": [
    "def is_primeN(x):\n",
    "    for i in range(2,x):\n",
    "        if x % i == 0:\n",
    "            return False\n",
    "    return True"
   ]
  },
  {
   "cell_type": "code",
   "execution_count": 3,
   "metadata": {},
   "outputs": [
    {
     "data": {
      "text/plain": [
       "True"
      ]
     },
     "execution_count": 3,
     "metadata": {},
     "output_type": "execute_result"
    }
   ],
   "source": [
    "is_primeN(1)"
   ]
  },
  {
   "cell_type": "code",
   "execution_count": 23,
   "metadata": {},
   "outputs": [],
   "source": [
    "import sys\n",
    "\n",
    "def is_primeN(x):\n",
    "    for i in range(2,x):\n",
    "        if x == 1:\n",
    "            return False\n",
    "        if x % i == 0:\n",
    "            return False\n",
    "    return True\n",
    "\n",
    "N = int(sys.stdin.readline())\n",
    "A = list(map(int, sys.stdin.readline().split()))\n",
    "\n",
    "# for i in A:\n",
    "#     print(i)\n",
    "\n",
    "sum = 0\n",
    "for i in range(N):\n",
    "#     if A[i] == 1:\n",
    "#         sum += 1\n",
    "\n",
    "# print(sum)\n",
    "\n",
    "    if is_primeN(A[i]) == True:\n",
    "        sum += 1\n",
    "\n",
    "print(sum)"
   ]
  },
  {
   "cell_type": "markdown",
   "metadata": {},
   "source": [
    "9020번 : 골드바흐 파티션 구하기"
   ]
  },
  {
   "cell_type": "code",
   "execution_count": null,
   "metadata": {},
   "outputs": [],
   "source": [
    "# 해당 숫자를 합으로 구성할 수 있는 두개의 소수들을 구하기\n",
    "\n",
    "# 아이디어 : 반복문으로 해당하는 숫자 N에 대해서, 합으로 두개의 정수로 구성되는, '1+(N-1)'부터 대충 절반까지 돌리고\n",
    "# 정수 중 하나라도 소수가 아니면 탈락시키고, 둘다 소수일 경우에는 출력하면 그게 '골드바흐 파티션'임"
   ]
  },
  {
   "cell_type": "code",
   "execution_count": 29,
   "metadata": {},
   "outputs": [
    {
     "name": "stdout",
     "output_type": "stream",
     "text": [
      "5 11\n"
     ]
    }
   ],
   "source": [
    "N = int(input())\n",
    "\n",
    "# print(N/2)\n",
    "\n",
    "I = 0\n",
    "J = 0\n",
    "\n",
    "for i in range(2,int(N/2)+1):\n",
    "    # print(i)\n",
    "    j = N - i\n",
    "    # print(j)\n",
    "\n",
    "    if is_primeN(i) and is_primeN(j):\n",
    "        # print(i,j)\n",
    "    # 이제 골드바흐 파티션 중에 더 차이가 작은것만 나오게 만들면 됨(차이가 가장 적거은걸 캐치하거나, 가장 뒤에걸 캐치하거나[뒤로 갈수록 차이가 적어짐])\n",
    "\n",
    "        I = i\n",
    "        J = j\n",
    "\n",
    "print(I, J)"
   ]
  },
  {
   "cell_type": "code",
   "execution_count": 32,
   "metadata": {},
   "outputs": [],
   "source": [
    "# 함수로 만들기\n",
    "def Gold(N):\n",
    "    I = 0\n",
    "    J = 0\n",
    "    for i in range(2,int(N/2)+1):\n",
    "        j = N - i\n",
    "    if is_primeN(i) and is_primeN(j):\n",
    "        I = i\n",
    "        J = j\n",
    "    print(I, J)"
   ]
  },
  {
   "cell_type": "code",
   "execution_count": 33,
   "metadata": {},
   "outputs": [
    {
     "name": "stdout",
     "output_type": "stream",
     "text": [
      "0 0\n"
     ]
    }
   ],
   "source": [
    "Gold(16)"
   ]
  },
  {
   "cell_type": "markdown",
   "metadata": {},
   "source": [
    "여러줄로 리스트 입력받기"
   ]
  },
  {
   "cell_type": "code",
   "execution_count": 35,
   "metadata": {},
   "outputs": [
    {
     "name": "stdout",
     "output_type": "stream",
     "text": [
      "['1', '2', '3']\n"
     ]
    }
   ],
   "source": [
    "s_list = [input() for _ in range(3)]\n",
    "\n",
    "print(s_list)"
   ]
  },
  {
   "cell_type": "code",
   "execution_count": 38,
   "metadata": {},
   "outputs": [
    {
     "name": "stdout",
     "output_type": "stream",
     "text": [
      "['1', '2', '3']\n"
     ]
    }
   ],
   "source": [
    "s_list = []\n",
    "\n",
    "for _ in range(3):\n",
    "    a = input()\n",
    "    s_list.append(a)\n",
    "\n",
    "print(s_list)"
   ]
  },
  {
   "cell_type": "code",
   "execution_count": 43,
   "metadata": {},
   "outputs": [
    {
     "name": "stdout",
     "output_type": "stream",
     "text": [
      "['1', '2', '3']\n"
     ]
    }
   ],
   "source": [
    "N = 3\n",
    "list = []\n",
    "for _ in range(N):\n",
    "    a = input()\n",
    "    list.append(a)\n",
    "print(list)"
   ]
  }
 ],
 "metadata": {
  "kernelspec": {
   "display_name": "Python 3",
   "language": "python",
   "name": "python3"
  },
  "language_info": {
   "codemirror_mode": {
    "name": "ipython",
    "version": 3
   },
   "file_extension": ".py",
   "mimetype": "text/x-python",
   "name": "python",
   "nbconvert_exporter": "python",
   "pygments_lexer": "ipython3",
   "version": "3.11.6"
  }
 },
 "nbformat": 4,
 "nbformat_minor": 2
}
