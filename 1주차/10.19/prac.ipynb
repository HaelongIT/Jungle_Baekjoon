{
 "cells": [
  {
   "cell_type": "code",
   "execution_count": 1,
   "metadata": {},
   "outputs": [
    {
     "name": "stdout",
     "output_type": "stream",
     "text": [
      "1\n",
      "2\n",
      "3\n",
      "4\n",
      "5\n"
     ]
    }
   ],
   "source": [
    "N = int(input())\n",
    "\n",
    "data = []\n",
    "\n",
    "for _ in range(N):\n",
    "    temp = int(input())\n",
    "    data.append(temp)\n",
    "    \n",
    "data.sort()\n",
    "\n",
    "for i in range(N):\n",
    "    print(data[i])"
   ]
  },
  {
   "cell_type": "code",
   "execution_count": 27,
   "metadata": {},
   "outputs": [
    {
     "name": "stdout",
     "output_type": "stream",
     "text": [
      "1\n"
     ]
    }
   ],
   "source": [
    "num3 = 10\n",
    "if num3 >= 10:\n",
    "    print(1)"
   ]
  },
  {
   "cell_type": "markdown",
   "metadata": {},
   "source": [
    "1110"
   ]
  },
  {
   "cell_type": "code",
   "execution_count": 41,
   "metadata": {},
   "outputs": [
    {
     "name": "stdout",
     "output_type": "stream",
     "text": [
      "8 9\n",
      "9 7\n",
      "7 6\n",
      "6 3\n",
      "3 9\n",
      "9 2\n",
      "2 1\n",
      "1 3\n",
      "3 4\n",
      "4 7\n",
      "7 1\n",
      "12\n"
     ]
    }
   ],
   "source": [
    "data = int(input())\n",
    "\n",
    "data = str(data)\n",
    "data = list(data)\n",
    "\n",
    "\n",
    "if len(data) == 1:\n",
    "    data.append('0')\n",
    "    data[0], data[1] = data[1], data[0]\n",
    "\n",
    "ans1 = data[0]\n",
    "ans2 = data[1]\n",
    "cnt = 0\n",
    "\n",
    "################################################\n",
    "    \n",
    "\n",
    "num1 = int(data[0])\n",
    "num2 = int(data[1])\n",
    "num3 = num1 + num2\n",
    "\n",
    "if num3 >= 10:\n",
    "    num3 = str(num3)\n",
    "    num3 = list(num3)\n",
    "    num3 = num3[1]\n",
    "    num3 = int(num3)\n",
    "\n",
    "data[0] = str(num2)\n",
    "data[1] = str(num3)\n",
    "cnt += 1\n",
    "\n",
    "\n",
    "while data[0] != ans1 or data[1] != ans2:\n",
    "    num1 = int(data[0])\n",
    "    num2 = int(data[1])\n",
    "    num3 = num1 + num2\n",
    "\n",
    "    if num3 >= 10:\n",
    "        num3 = str(num3)\n",
    "        num3 = list(num3)\n",
    "        num3 = num3[1]\n",
    "        num3 = int(num3)\n",
    "\n",
    "    data[0] = str(num2)\n",
    "    data[1] = str(num3)\n",
    "    \n",
    "    cnt += 1\n",
    "\n",
    "    # print(data[0], data[1])\n",
    "\n",
    "print(cnt)"
   ]
  },
  {
   "cell_type": "code",
   "execution_count": 10,
   "metadata": {},
   "outputs": [
    {
     "name": "stdout",
     "output_type": "stream",
     "text": [
      "['1', '0']\n"
     ]
    }
   ],
   "source": [
    "data = int(input())\n",
    "# print(data)\n",
    "\n",
    "data = str(data)\n",
    "data = list(data)\n",
    "\n",
    "print(data)"
   ]
  },
  {
   "cell_type": "markdown",
   "metadata": {},
   "source": [
    "1182"
   ]
  },
  {
   "cell_type": "code",
   "execution_count": 21,
   "metadata": {},
   "outputs": [
    {
     "name": "stdout",
     "output_type": "stream",
     "text": [
      "0\n"
     ]
    }
   ],
   "source": [
    "N = list(map(int, input().split()))\n",
    "# print(N)\n",
    "\n",
    "data = list(map(int, input().split()))\n",
    "\n",
    "# print(data)\n",
    "\n",
    "ans = N[1]\n",
    "\n"
   ]
  }
 ],
 "metadata": {
  "kernelspec": {
   "display_name": "Python 3",
   "language": "python",
   "name": "python3"
  },
  "language_info": {
   "codemirror_mode": {
    "name": "ipython",
    "version": 3
   },
   "file_extension": ".py",
   "mimetype": "text/x-python",
   "name": "python",
   "nbconvert_exporter": "python",
   "pygments_lexer": "ipython3",
   "version": "3.11.6"
  }
 },
 "nbformat": 4,
 "nbformat_minor": 2
}
