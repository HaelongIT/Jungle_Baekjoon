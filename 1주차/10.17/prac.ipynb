{
 "cells": [
  {
   "cell_type": "markdown",
   "metadata": {},
   "source": [
    "BFS"
   ]
  },
  {
   "cell_type": "code",
   "execution_count": null,
   "metadata": {},
   "outputs": [],
   "source": [
    "graph = dict()\n",
    "\n",
    "graph['A'] = ['B', 'C']\n",
    "graph['B'] = ['A', 'D']\n",
    "graph['C'] = ['A', 'G', 'H', 'I']\n",
    "graph['D'] = ['B', 'E', 'F']\n",
    "graph['E'] = ['D']\n",
    "graph['F'] = ['D']\n",
    "graph['G'] = ['C']\n",
    "graph['H'] = ['C']\n",
    "graph['I'] = ['C', 'J']\n",
    "graph['J'] = ['I']\n",
    "\n",
    "print(graph)"
   ]
  },
  {
   "cell_type": "code",
   "execution_count": null,
   "metadata": {},
   "outputs": [],
   "source": [
    "def bfs(graph, s_node):\n",
    "    n_queue = list()\n",
    "    v_queue = list()\n",
    "    n_queue.append(s_node)\n",
    "    \n",
    "\n",
    "    while n_queue:\n",
    "        node = n_queue.pop(0)\n",
    "        \n",
    "        if node not in v_queue:\n",
    "            v_queue.append(node)\n",
    "            n_queue.extend(graph[node])\n",
    "\n",
    "    return v_queue"
   ]
  },
  {
   "cell_type": "code",
   "execution_count": null,
   "metadata": {},
   "outputs": [],
   "source": [
    "bfs(graph, 'A')"
   ]
  },
  {
   "cell_type": "code",
   "execution_count": null,
   "metadata": {},
   "outputs": [],
   "source": [
    "graph = dict()\n",
    "\n",
    "graph['A'] = ['B', 'C']\n",
    "graph['B'] = ['A', 'D']\n",
    "graph['C'] = ['A', 'G', 'H', 'I']\n",
    "graph['D'] = ['B', 'E', 'F']\n",
    "graph['E'] = ['D']\n",
    "graph['F'] = ['D']\n",
    "graph['G'] = ['C']\n",
    "graph['H'] = ['C']\n",
    "graph['I'] = ['C', 'J']\n",
    "graph['J'] = ['I']"
   ]
  },
  {
   "cell_type": "code",
   "execution_count": null,
   "metadata": {},
   "outputs": [],
   "source": [
    "def BFS(graph,start_node):\n",
    "    n_queue = list()\n",
    "    v_queue = list()\n",
    "\n",
    "    n_queue.append(start_node)\n",
    "\n",
    "    while n_queue:\n",
    "        node = n_queue.pop(0)\n",
    "\n",
    "        if node not in v_queue:\n",
    "            v_queue.append(node)\n",
    "            n_queue.extend(graph[node])\n",
    "            \n",
    "    return v_queue"
   ]
  },
  {
   "cell_type": "code",
   "execution_count": null,
   "metadata": {},
   "outputs": [],
   "source": [
    "BFS(graph,'A')"
   ]
  },
  {
   "cell_type": "markdown",
   "metadata": {},
   "source": [
    "이진탐색"
   ]
  },
  {
   "cell_type": "code",
   "execution_count": null,
   "metadata": {},
   "outputs": [],
   "source": [
    "def binary_search(data, search_data):\n",
    "    if len(data) == 1 and data[0] == search_data:\n",
    "        return True\n",
    "    if len(data) == 1 and data[0] != search_data:\n",
    "        return False\n",
    "    if len(data) == 0:\n",
    "        return False\n",
    "    \n",
    "    medium = len(data) //2\n",
    "    if medium == search_data:\n",
    "        return True\n",
    "    elif search_data > data[medium]:\n",
    "        return binary_search(data[medium:], search_data)\n",
    "    else:\n",
    "        return binary_search(data[:medium], search_data)\n",
    "    "
   ]
  },
  {
   "cell_type": "markdown",
   "metadata": {},
   "source": [
    "1920번"
   ]
  },
  {
   "cell_type": "code",
   "execution_count": null,
   "metadata": {},
   "outputs": [],
   "source": [
    "def binary_search(data, search):\n",
    "    left, right = 0, n - 1\n",
    "\n",
    "    while left <= right:\n",
    "        mid = (left + right) // 2\n",
    "        if data[mid] == search:\n",
    "            return 1\n",
    "        elif data[mid] < search:\n",
    "            left = mid + 1\n",
    "        else:\n",
    "            right = mid - 1\n",
    "\n",
    "    return 0"
   ]
  },
  {
   "cell_type": "markdown",
   "metadata": {},
   "source": [
    "2630번"
   ]
  },
  {
   "cell_type": "code",
   "execution_count": null,
   "metadata": {},
   "outputs": [],
   "source": [
    "import sys\n",
    "\n",
    "N = int(sys.stdin.readline())\n",
    "paper = [list(map(int, sys.stdin.readline().split())) for _ in range(N)] \n",
    "\n",
    "result = []\n",
    "\n",
    "def solution(x, y, N):\n",
    "  color = paper[x][y]\n",
    "  for i in range(x, x+N):\n",
    "    for j in range(y, y+N) :\n",
    "      if color != paper[i][j]:\n",
    "        solution(x, y, N//2)\n",
    "        solution(x, y+N//2, N//2)\n",
    "        solution(x+N//2, y, N//2)\n",
    "        solution(x+N//2, y+N//2, N//2)\n",
    "        return\n",
    "  if color == 0:\n",
    "    result.append(0)\n",
    "  else:\n",
    "    result.append(1)\n",
    "\n",
    "\n",
    "solution(0,0,N)\n",
    "print(result.count(0))\n",
    "print(result.count(1))"
   ]
  },
  {
   "cell_type": "code",
   "execution_count": 3,
   "metadata": {},
   "outputs": [],
   "source": [
    "import sys\n",
    "\n",
    "N = int(sys.stdin.readline())\n",
    "paper = [list(map(int, sys.stdin.readline().split())) for _ in range(N)] \n",
    "\n",
    "result = []\n",
    "\n",
    "def solution(x, y, N):\n",
    "    start = paper[x][y]\n",
    "    \n",
    "    for i in range(x, x+N):\n",
    "        for j in range(y, y+N):\n",
    "            if start != paper[i][j]:\n",
    "                solution(x, y,N//2)\n",
    "                solution(x+N//2,y,N//2)\n",
    "                solution(x,y+N//2,N//2)\n",
    "                solution(x+N//2,y+N//2,N//2)\n",
    "                return\n",
    "    if start == 1:\n",
    "        result.append(1)\n",
    "    else:\n",
    "        result.append(0)\n",
    "\n",
    "solution(0,0,N)\n",
    "\n",
    "print(result.count(0))\n",
    "print(result.count(1))"
   ]
  },
  {
   "cell_type": "code",
   "execution_count": null,
   "metadata": {},
   "outputs": [],
   "source": [
    "import sys\n",
    "\n",
    "N = int(sys.stdin.readline())\n",
    "paper = [list(map(int, sys.stdin.readline().split())) for _ in range(N)]\n",
    "\n",
    "data = []\n",
    "\n",
    "def sol(x,y,N):\n",
    "    start = paper[x][y]\n",
    "\n",
    "    for i in range(x, x+N):\n",
    "        for j in range(y, y+N):\n",
    "            if start != paper[i][j]:\n",
    "                sol(x, y, N//2)\n",
    "                sol(x+N//2, y, N//2)\n",
    "                sol(x, y+N//2, N//2)\n",
    "                sol(x+N//2, y+N//2, N//2)\n",
    "                return\n",
    "\n",
    "    if start == 1:\n",
    "        data.append(1)\n",
    "    else:\n",
    "        data.append(0)\n",
    "    \n",
    "sol(0,0,N)\n",
    "\n",
    "print(data.count(0))\n",
    "print(data.count(1))"
   ]
  },
  {
   "cell_type": "markdown",
   "metadata": {},
   "source": [
    "10828"
   ]
  },
  {
   "cell_type": "code",
   "execution_count": 4,
   "metadata": {},
   "outputs": [
    {
     "name": "stdout",
     "output_type": "stream",
     "text": [
      "['1', 'ㅑㅜㅅ']\n"
     ]
    }
   ],
   "source": [
    "command = input().split()\n",
    "print(command)"
   ]
  },
  {
   "cell_type": "code",
   "execution_count": 6,
   "metadata": {},
   "outputs": [
    {
     "ename": "ValueError",
     "evalue": "invalid literal for int() with base 10: ''",
     "output_type": "error",
     "traceback": [
      "\u001b[1;31m---------------------------------------------------------------------------\u001b[0m",
      "\u001b[1;31mValueError\u001b[0m                                Traceback (most recent call last)",
      "\u001b[1;32mc:\\Users\\손용재\\Desktop\\개발자 공부\\정글\\1주차\\10.17\\prac.ipynb 셀 18\u001b[0m line \u001b[0;36m1\n\u001b[1;32m----> <a href='vscode-notebook-cell:/c%3A/Users/%EC%86%90%EC%9A%A9%EC%9E%AC/Desktop/%EA%B0%9C%EB%B0%9C%EC%9E%90%20%EA%B3%B5%EB%B6%80/%EC%A0%95%EA%B8%80/1%EC%A3%BC%EC%B0%A8/10.17/prac.ipynb#X24sZmlsZQ%3D%3D?line=0'>1</a>\u001b[0m n \u001b[39m=\u001b[39m \u001b[39mint\u001b[39;49m(\u001b[39minput\u001b[39;49m())\n\u001b[0;32m      <a href='vscode-notebook-cell:/c%3A/Users/%EC%86%90%EC%9A%A9%EC%9E%AC/Desktop/%EA%B0%9C%EB%B0%9C%EC%9E%90%20%EA%B3%B5%EB%B6%80/%EC%A0%95%EA%B8%80/1%EC%A3%BC%EC%B0%A8/10.17/prac.ipynb#X24sZmlsZQ%3D%3D?line=2'>3</a>\u001b[0m stack \u001b[39m=\u001b[39m []\n\u001b[0;32m      <a href='vscode-notebook-cell:/c%3A/Users/%EC%86%90%EC%9A%A9%EC%9E%AC/Desktop/%EA%B0%9C%EB%B0%9C%EC%9E%90%20%EA%B3%B5%EB%B6%80/%EC%A0%95%EA%B8%80/1%EC%A3%BC%EC%B0%A8/10.17/prac.ipynb#X24sZmlsZQ%3D%3D?line=4'>5</a>\u001b[0m \u001b[39mfor\u001b[39;00m i \u001b[39min\u001b[39;00m \u001b[39mrange\u001b[39m(n):\n",
      "\u001b[1;31mValueError\u001b[0m: invalid literal for int() with base 10: ''"
     ]
    }
   ],
   "source": [
    "n = int(input())\n",
    "\n",
    "stack = []\n",
    "\n",
    "for i in range(n):\n",
    "    command = input().split()\n",
    "\n",
    "    if command[0] == 'push':\n",
    "        stack.append(command[1])\n",
    "    elif command[0] == 'pop':\n",
    "        if len(stack) == 0:\n",
    "            print(-1)\n",
    "        else:\n",
    "            print(stack.pop())\n",
    "    elif command[0] == 'size':\n",
    "        print(len(stack))\n",
    "    elif command[0] == 'empty':\n",
    "        if len(stack) == 0:\n",
    "            print(1)\n",
    "        else:\n",
    "            print(0)\n",
    "    elif command[0] == 'top':\n",
    "        if len(stack) == 0:\n",
    "            print(-1)\n",
    "        else:\n",
    "            print(stack[-1])\n"
   ]
  },
  {
   "cell_type": "markdown",
   "metadata": {},
   "source": [
    "11866"
   ]
  },
  {
   "cell_type": "code",
   "execution_count": 10,
   "metadata": {},
   "outputs": [
    {
     "name": "stdout",
     "output_type": "stream",
     "text": [
      "<3, 6, 2, 7, 5, 1, 4>\n"
     ]
    }
   ],
   "source": [
    "N = list(map(int,input().split()))\n",
    "\n",
    "# print(N)\n",
    "\n",
    "data = []\n",
    "y_data = []\n",
    "\n",
    "for i in range(1,N[0]+1):\n",
    "    data.append(i)\n",
    "# print(data)\n",
    "\n",
    "\n",
    "while len(data) > 0:\n",
    "    for j in range(N[1]-1):\n",
    "        temp = data.pop(0)\n",
    "        # print(temp)\n",
    "        data.append(temp)\n",
    "        # print(data)\n",
    "    temp2 = data.pop(0)\n",
    "    y_data.append(temp2)\n",
    "\n",
    "# print(y_data)\n",
    "\n",
    "ouput_str = ', '.join(map(str, y_data))\n",
    "# print(ouput_str)\n",
    "\n",
    "print('<{}>'.format(ouput_str))"
   ]
  },
  {
   "cell_type": "markdown",
   "metadata": {},
   "source": [
    "11279"
   ]
  },
  {
   "cell_type": "code",
   "execution_count": 1,
   "metadata": {},
   "outputs": [
    {
     "name": "stdout",
     "output_type": "stream",
     "text": [
      "0\n",
      "2\n",
      "1\n",
      "3\n",
      "2\n",
      "1\n",
      "0\n",
      "0\n"
     ]
    }
   ],
   "source": [
    "\n",
    "\n",
    "N = int(input())\n",
    "\n",
    "data = []\n",
    "\n",
    "for i in range(N):\n",
    "    command = int(input())\n",
    "\n",
    "    if command == 0:\n",
    "        data.sort()\n",
    "        # print(data)\n",
    "        if len(data) == 0:\n",
    "            print(0)\n",
    "            continue\n",
    "        print(data.pop())\n",
    "\n",
    "    data.append(command)"
   ]
  },
  {
   "cell_type": "code",
   "execution_count": 2,
   "metadata": {},
   "outputs": [
    {
     "name": "stdout",
     "output_type": "stream",
     "text": [
      "0\n",
      "2\n",
      "1\n",
      "3\n",
      "2\n",
      "1\n",
      "0\n",
      "0\n"
     ]
    }
   ],
   "source": [
    "import sys\n",
    "\n",
    "N = int(sys.stdin.readline())\n",
    "\n",
    "data = []\n",
    "\n",
    "for i in range(N):\n",
    "    command = int(sys.stdin.readline())\n",
    "\n",
    "    if command == 0:\n",
    "        if len(data) == 0:\n",
    "            print(0)\n",
    "            continue\n",
    "        print(max(data))\n",
    "        data.remove(max(data))\n",
    "\n",
    "    data.append(command)"
   ]
  }
 ],
 "metadata": {
  "kernelspec": {
   "display_name": "Python 3",
   "language": "python",
   "name": "python3"
  },
  "language_info": {
   "codemirror_mode": {
    "name": "ipython",
    "version": 3
   },
   "file_extension": ".py",
   "mimetype": "text/x-python",
   "name": "python",
   "nbconvert_exporter": "python",
   "pygments_lexer": "ipython3",
   "version": "3.11.6"
  }
 },
 "nbformat": 4,
 "nbformat_minor": 2
}
