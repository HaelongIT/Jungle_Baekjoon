{
 "cells": [
  {
   "cell_type": "markdown",
   "metadata": {},
   "source": [
    "버블정렬"
   ]
  },
  {
   "cell_type": "code",
   "execution_count": 2,
   "metadata": {},
   "outputs": [
    {
     "name": "stdout",
     "output_type": "stream",
     "text": [
      "[1, 3, 5, 9]\n"
     ]
    }
   ],
   "source": [
    "A = [5, 9, 1, 3]\n",
    "\n",
    "for i in range(len(A)-1):\n",
    "    for index in range(len(A)-1):\n",
    "        if A[index] > A[index+1]:\n",
    "            A[index], A[index+1] = A[index+1], A[index]\n",
    "\n",
    "print(A)"
   ]
  },
  {
   "cell_type": "markdown",
   "metadata": {},
   "source": [
    "2750"
   ]
  },
  {
   "cell_type": "code",
   "execution_count": null,
   "metadata": {},
   "outputs": [],
   "source": [
    "# 입력 : 갯수, 리스트 데이터\n",
    "# 출력 : 정렬된 리스트 데이터\n",
    "# 알고리즘 : 버블정렬"
   ]
  },
  {
   "cell_type": "code",
   "execution_count": 5,
   "metadata": {},
   "outputs": [
    {
     "name": "stdout",
     "output_type": "stream",
     "text": [
      "1\n",
      "2\n",
      "3\n",
      "4\n",
      "5\n"
     ]
    }
   ],
   "source": [
    "N = int(input())\n",
    "\n",
    "data = []\n",
    "\n",
    "for _ in range(N):\n",
    "    A = int(input())\n",
    "    data.append(A)\n",
    "\n",
    "# print(data)\n",
    "\n",
    "for i in range(len(data)-1):\n",
    "    for index in range(len(data)-1):\n",
    "        if data[index] > data[index+1]:\n",
    "            data[index], data[index+1] = data[index+1], data[index]\n",
    "\n",
    "for i in data:\n",
    "    print(i)"
   ]
  },
  {
   "cell_type": "code",
   "execution_count": 8,
   "metadata": {},
   "outputs": [
    {
     "name": "stdout",
     "output_type": "stream",
     "text": [
      "[1, 9]\n",
      "[5, 6, 12]\n"
     ]
    }
   ],
   "source": [
    "data = [1,9,5,6,12]\n",
    "def split(data):\n",
    "    medium = int(len(data)/2)\n",
    "    left = data[:medium]\n",
    "    right = data[medium:]\n",
    "    print(left)\n",
    "    print(right)\n",
    "\n",
    "split(data)"
   ]
  },
  {
   "cell_type": "code",
   "execution_count": 16,
   "metadata": {},
   "outputs": [
    {
     "name": "stdout",
     "output_type": "stream",
     "text": [
      "1\n",
      "2\n",
      "3\n",
      "4\n",
      "5\n"
     ]
    }
   ],
   "source": [
    "def merge(left, right):\n",
    "    merged = list()\n",
    "    left_point, right_point = 0, 0\n",
    "    \n",
    "    # case1 - left/right 둘다 있을때\n",
    "    while len(left) > left_point and len(right) > right_point:\n",
    "        if left[left_point] > right[right_point]:\n",
    "            merged.append(right[right_point])\n",
    "            right_point += 1\n",
    "        else:\n",
    "            merged.append(left[left_point])\n",
    "            left_point += 1\n",
    "\n",
    "    # case2 - left 데이터가 없을 때\n",
    "    while len(left) > left_point:\n",
    "        merged.append(left[left_point])\n",
    "        left_point += 1\n",
    "        \n",
    "    # case3 - right 데이터가 없을 때\n",
    "    while len(right) > right_point:\n",
    "        merged.append(right[right_point])\n",
    "        right_point += 1\n",
    "    \n",
    "    return merged\n",
    "\n",
    "\n",
    "def mergesplit(data):\n",
    "    if len(data) <= 1:\n",
    "        return data\n",
    "    medium = int(len(data) / 2)\n",
    "    left = mergesplit(data[:medium])\n",
    "    right = mergesplit(data[medium:])\n",
    "    return merge(left, right)\n",
    "\n",
    "N = int(input())\n",
    "data = []\n",
    "\n",
    "for _ in range(N):\n",
    "    a = int(input())\n",
    "    data.append(a)\n",
    "# print(data)\n",
    "\n",
    "mergesplit(data)\n",
    "\n",
    "for i in mergesplit(data):\n",
    "    print(i)"
   ]
  },
  {
   "cell_type": "code",
   "execution_count": null,
   "metadata": {},
   "outputs": [],
   "source": [
    "import sys\n",
    "\n",
    "n = int(sys.stdin.readline())\n",
    "lst = []\n",
    "\n",
    "for i in range(n):\n",
    "    lst.append(sys.stdin.readline().strip())\n",
    "\n",
    "set_lst = set(lst)\n",
    "lst = list(set_lst)\n",
    "lst.sort()\n",
    "# 알파벳 순으로 정렬\n",
    "lst.sort(key = len)\n",
    "# 문자열 길이 순으로 정렬\n",
    "\n",
    "for i in lst:\n",
    "    print(i)"
   ]
  },
  {
   "cell_type": "code",
   "execution_count": 1,
   "metadata": {},
   "outputs": [],
   "source": [
    "array = []\n",
    "for i in range(9):\n",
    "    array.append(int(input()))\n",
    "\n",
    "array.sort()\n",
    "\n",
    "sum_ = sum(array)\n",
    "\n",
    "# 만약 모두다 더하고 2명을 뺐을 때 그 값이 100이라면 2개를 뺀 나머지 값들 출력\n",
    "for i in range(len(array)):\n",
    "    for j in range(i + 1, len(array)):\n",
    "        if sum_ - array[i] - array[j] == 100:\n",
    "            for k in range(len(array)):\n",
    "                if k == i or k == j:\n",
    "                    pass\n",
    "                else:\n",
    "                    print(array[k])\n",
    "            exit()"
   ]
  },
  {
   "cell_type": "code",
   "execution_count": 3,
   "metadata": {},
   "outputs": [
    {
     "name": "stdout",
     "output_type": "stream",
     "text": [
      "7\n",
      "8\n",
      "10\n",
      "13\n",
      "19\n",
      "20\n",
      "23\n"
     ]
    }
   ],
   "source": [
    "array = []\n",
    "\n",
    "for _ in range(9):\n",
    "    n = int(input())\n",
    "    array.append(n)\n",
    "\n",
    "# print(array)\n",
    "\n",
    "array.sort()\n",
    "# print(array)\n",
    "\n",
    "sumArray = sum(array)\n",
    "\n",
    "for i in range(len(array)):\n",
    "    for j in range(i + 1, len(array)):\n",
    "        if sumArray - array[i] - array[j] == 100:\n",
    "            for k in range(len(array)):\n",
    "                if k == i or k == j:\n",
    "                    pass\n",
    "                else:\n",
    "                    print(array[k])"
   ]
  },
  {
   "cell_type": "code",
   "execution_count": 8,
   "metadata": {},
   "outputs": [
    {
     "name": "stdout",
     "output_type": "stream",
     "text": [
      "7\n",
      "8\n",
      "10\n",
      "13\n",
      "19\n",
      "20\n",
      "23\n"
     ]
    }
   ],
   "source": [
    "data = []\n",
    "\n",
    "for i in range(9):\n",
    "    n = int(input())\n",
    "    data.append(n)\n",
    "\n",
    "data.sort()\n",
    "\n",
    "SumArray = sum(data)\n",
    "for i in range(len(data)):\n",
    "    for j in range(i+1,len(data)):\n",
    "        if SumArray - data[i] - data[j] == 100:\n",
    "            for k in range(len(data)):\n",
    "                if k == i or k == j:\n",
    "                    pass\n",
    "                else:\n",
    "                    print(data[k])"
   ]
  },
  {
   "cell_type": "code",
   "execution_count": null,
   "metadata": {},
   "outputs": [],
   "source": [
    "array = []\n",
    "for i in range(9):\n",
    "    array.append(int(input()))\n",
    "\n",
    "array.sort()\n",
    "\n",
    "sum_ = sum(array)\n",
    "\n",
    "# 만약 모두다 더하고 2명을 뺐을 때 그 값이 100이라면 2개를 뺀 나머지 값들 출력\n",
    "for i in range(len(array)):\n",
    "    for j in range(i + 1, len(array)):\n",
    "        if sum_ - array[i] - array[j] == 100:\n",
    "            for k in range(len(array)):\n",
    "                if k == i or k == j:\n",
    "                    pass\n",
    "                else:\n",
    "                    print(array[k])\n",
    "            exit()"
   ]
  }
 ],
 "metadata": {
  "kernelspec": {
   "display_name": "Python 3",
   "language": "python",
   "name": "python3"
  },
  "language_info": {
   "codemirror_mode": {
    "name": "ipython",
    "version": 3
   },
   "file_extension": ".py",
   "mimetype": "text/x-python",
   "name": "python",
   "nbconvert_exporter": "python",
   "pygments_lexer": "ipython3",
   "version": "3.11.6"
  }
 },
 "nbformat": 4,
 "nbformat_minor": 2
}
