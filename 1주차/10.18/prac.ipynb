{
 "cells": [
  {
   "cell_type": "markdown",
   "metadata": {},
   "source": [
    "11279"
   ]
  },
  {
   "cell_type": "code",
   "execution_count": 2,
   "metadata": {},
   "outputs": [
    {
     "name": "stdout",
     "output_type": "stream",
     "text": [
      "3\n"
     ]
    }
   ],
   "source": [
    "N = int(input())\n",
    "\n",
    "import queue\n",
    "\n",
    "# 우선순위 큐 생성\n",
    "pq = queue.PriorityQueue()\n",
    "\n",
    "pq.put((N,N))\n",
    "\n",
    "data1, data2 = pq.get()\n",
    "\n",
    "print(data1)"
   ]
  },
  {
   "cell_type": "code",
   "execution_count": 14,
   "metadata": {},
   "outputs": [
    {
     "name": "stdout",
     "output_type": "stream",
     "text": [
      "8\n",
      "7\n",
      "6\n",
      "5\n",
      "0\n",
      "0\n"
     ]
    }
   ],
   "source": [
    "import queue\n",
    "\n",
    "N = int(input())\n",
    "\n",
    "data1 = 0\n",
    "data2 = 0\n",
    "pq = queue.PriorityQueue()\n",
    "\n",
    "for i in range(N):\n",
    "    command = int(input())\n",
    "\n",
    "    if command == 0:\n",
    "        if pq.qsize() == 0:\n",
    "            print(0)\n",
    "            continue\n",
    "        data1, data2 = pq.get()\n",
    "        print(data2)\n",
    "    else:\n",
    "        pq.put((-command,command))\n",
    "    "
   ]
  },
  {
   "cell_type": "code",
   "execution_count": null,
   "metadata": {},
   "outputs": [],
   "source": [
    "import queue\n",
    "import sys\n",
    "\n",
    "N = int(sys.stdin.readline())\n",
    "\n",
    "data1 = 0\n",
    "data2 = 0\n",
    "pq = queue.PriorityQueue()\n",
    "\n",
    "for i in range(N):\n",
    "    command = int(sys.stdin.readline())\n",
    "\n",
    "    if command == 0:\n",
    "        if pq.qsize() == 0:\n",
    "            print(0)\n",
    "            continue\n",
    "        data1, data2 = pq.get()\n",
    "        print(data2)\n",
    "    else:\n",
    "        pq.put((-command,command))"
   ]
  },
  {
   "cell_type": "markdown",
   "metadata": {},
   "source": [
    "18258"
   ]
  },
  {
   "cell_type": "markdown",
   "metadata": {},
   "source": [
    "정수를 저장하는 큐를 구현한 다음, 입력으로 주어지는 명령을 처리하는 프로그램을 작성하시오.\n",
    "\n",
    "명령은 총 여섯 가지이다.\n",
    "\n",
    "push X: 정수 X를 큐에 넣는 연산이다.\n",
    "pop: 큐에서 가장 앞에 있는 정수를 빼고, 그 수를 출력한다. 만약 큐에 들어있는 정수가 없는 경우에는 -1을 출력한다.\n",
    "size: 큐에 들어있는 정수의 개수를 출력한다.\n",
    "empty: 큐가 비어있으면 1, 아니면 0을 출력한다.\n",
    "front: 큐의 가장 앞에 있는 정수를 출력한다. 만약 큐에 들어있는 정수가 없는 경우에는 -1을 출력한다.\n",
    "back: 큐의 가장 뒤에 있는 정수를 출력한다. 만약 큐에 들어있는 정수가 없는 경우에는 -1을 출력한다."
   ]
  },
  {
   "cell_type": "code",
   "execution_count": 15,
   "metadata": {},
   "outputs": [
    {
     "name": "stdout",
     "output_type": "stream",
     "text": [
      "['1', '2']\n"
     ]
    }
   ],
   "source": [
    "data = list(input().split())\n",
    "print(data)"
   ]
  },
  {
   "cell_type": "markdown",
   "metadata": {},
   "source": [
    "정수를 저장하는 큐를 구현한 다음, 입력으로 주어지는 명령을 처리하는 프로그램을 작성하시오.\n",
    "\n",
    "명령은 총 여섯 가지이다.\n",
    "\n",
    "push X: 정수 X를 큐에 넣는 연산이다.\n",
    "pop: 큐에서 가장 앞에 있는 정수를 빼고, 그 수를 출력한다. 만약 큐에 들어있는 정수가 없는 경우에는 -1을 출력한다.\n",
    "size: 큐에 들어있는 정수의 개수를 출력한다.\n",
    "empty: 큐가 비어있으면 1, 아니면 0을 출력한다.\n",
    "front: 큐의 가장 앞에 있는 정수를 출력한다. 만약 큐에 들어있는 정수가 없는 경우에는 -1을 출력한다.\n",
    "back: 큐의 가장 뒤에 있는 정수를 출력한다. 만약 큐에 들어있는 정수가 없는 경우에는 -1을 출력한다."
   ]
  },
  {
   "cell_type": "code",
   "execution_count": 19,
   "metadata": {},
   "outputs": [
    {
     "name": "stdout",
     "output_type": "stream",
     "text": [
      "push\n",
      "push\n",
      "pop 3\n"
     ]
    },
    {
     "ename": "IndexError",
     "evalue": "list index out of range",
     "output_type": "error",
     "traceback": [
      "\u001b[1;31m---------------------------------------------------------------------------\u001b[0m",
      "\u001b[1;31mIndexError\u001b[0m                                Traceback (most recent call last)",
      "\u001b[1;32mc:\\Users\\손용재\\Desktop\\개발자 공부\\정글\\1주차\\10.18\\prac.ipynb 셀 8\u001b[0m line \u001b[0;36m1\n\u001b[0;32m     <a href='vscode-notebook-cell:/c%3A/Users/%EC%86%90%EC%9A%A9%EC%9E%AC/Desktop/%EA%B0%9C%EB%B0%9C%EC%9E%90%20%EA%B3%B5%EB%B6%80/%EC%A0%95%EA%B8%80/1%EC%A3%BC%EC%B0%A8/10.18/prac.ipynb#W5sZmlsZQ%3D%3D?line=10'>11</a>\u001b[0m     \u001b[39mprint\u001b[39m(command[\u001b[39m0\u001b[39m], command[\u001b[39m1\u001b[39m])\n\u001b[0;32m     <a href='vscode-notebook-cell:/c%3A/Users/%EC%86%90%EC%9A%A9%EC%9E%AC/Desktop/%EA%B0%9C%EB%B0%9C%EC%9E%90%20%EA%B3%B5%EB%B6%80/%EC%A0%95%EA%B8%80/1%EC%A3%BC%EC%B0%A8/10.18/prac.ipynb#W5sZmlsZQ%3D%3D?line=11'>12</a>\u001b[0m \u001b[39melse\u001b[39;00m:\n\u001b[1;32m---> <a href='vscode-notebook-cell:/c%3A/Users/%EC%86%90%EC%9A%A9%EC%9E%AC/Desktop/%EA%B0%9C%EB%B0%9C%EC%9E%90%20%EA%B3%B5%EB%B6%80/%EC%A0%95%EA%B8%80/1%EC%A3%BC%EC%B0%A8/10.18/prac.ipynb#W5sZmlsZQ%3D%3D?line=12'>13</a>\u001b[0m     \u001b[39mprint\u001b[39m(command[\u001b[39m0\u001b[39;49m])\n",
      "\u001b[1;31mIndexError\u001b[0m: list index out of range"
     ]
    }
   ],
   "source": [
    "import queue\n",
    "\n",
    "data_queue = queue.Queue()\n",
    "\n",
    "N = int(input())\n",
    "\n",
    "for i in range(N):\n",
    "    command = list(input().split())\n",
    "    if len(command) == 2:\n",
    "        command[1] = int(command[1])\n",
    "        print(command[0], command[1])\n",
    "    else:\n",
    "        print(command[0])"
   ]
  },
  {
   "cell_type": "markdown",
   "metadata": {},
   "source": [
    "정수를 저장하는 큐를 구현한 다음, 입력으로 주어지는 명령을 처리하는 프로그램을 작성하시오.\n",
    "\n",
    "명령은 총 여섯 가지이다.\n",
    "\n",
    "push X: 정수 X를 큐에 넣는 연산이다.\n",
    "pop: 큐에서 가장 앞에 있는 정수를 빼고, 그 수를 출력한다. 만약 큐에 들어있는 정수가 없는 경우에는 -1을 출력한다.\n",
    "size: 큐에 들어있는 정수의 개수를 출력한다.\n",
    "empty: 큐가 비어있으면 1, 아니면 0을 출력한다.\n",
    "front: 큐의 가장 앞에 있는 정수를 출력한다. 만약 큐에 들어있는 정수가 없는 경우에는 -1을 출력한다.\n",
    "back: 큐의 가장 뒤에 있는 정수를 출력한다. 만약 큐에 들어있는 정수가 없는 경우에는 -1을 출력한다."
   ]
  },
  {
   "cell_type": "code",
   "execution_count": null,
   "metadata": {},
   "outputs": [],
   "source": [
    "import queue\n",
    "\n",
    "data_queue = queue.Queue()\n",
    "\n",
    "N = int(input())\n",
    "\n",
    "for i in range(N):\n",
    "    command = list(input().split())\n",
    "    if len(command) == 2:\n",
    "        command[1] = int(command[1])\n",
    "        data_queue.put(command[1])\n",
    "    else:\n",
    "        if command == 'pop':\n",
    "            if data_queue.qsize() == '0':\n",
    "                print(-1)\n",
    "            else:\n",
    "                print(data_queue.get())\n",
    "        elif command == 'size':\n",
    "            print(data_queue.qsize())\n",
    "        elif command == 'empty':\n",
    "            if data_queue.qsize() == '0':\n",
    "                print(1)\n",
    "            else:\n",
    "                print(0)\n",
    "        elif command == 'front':\n",
    "            "
   ]
  },
  {
   "cell_type": "code",
   "execution_count": 25,
   "metadata": {},
   "outputs": [
    {
     "name": "stdout",
     "output_type": "stream",
     "text": [
      "1\n",
      "2\n",
      "2\n",
      "0\n",
      "1\n",
      "2\n",
      "-1\n",
      "0\n",
      "1\n",
      "1\n"
     ]
    },
    {
     "ename": "IndexError",
     "evalue": "list index out of range",
     "output_type": "error",
     "traceback": [
      "\u001b[1;31m---------------------------------------------------------------------------\u001b[0m",
      "\u001b[1;31mIndexError\u001b[0m                                Traceback (most recent call last)",
      "\u001b[1;32mc:\\Users\\손용재\\Desktop\\개발자 공부\\정글\\1주차\\10.18\\prac.ipynb 셀 12\u001b[0m line \u001b[0;36m1\n\u001b[0;32m     <a href='vscode-notebook-cell:/c%3A/Users/%EC%86%90%EC%9A%A9%EC%9E%AC/Desktop/%EA%B0%9C%EB%B0%9C%EC%9E%90%20%EA%B3%B5%EB%B6%80/%EC%A0%95%EA%B8%80/1%EC%A3%BC%EC%B0%A8/10.18/prac.ipynb#X15sZmlsZQ%3D%3D?line=10'>11</a>\u001b[0m     data_queue\u001b[39m.\u001b[39mappend(command[\u001b[39m1\u001b[39m])\n\u001b[0;32m     <a href='vscode-notebook-cell:/c%3A/Users/%EC%86%90%EC%9A%A9%EC%9E%AC/Desktop/%EA%B0%9C%EB%B0%9C%EC%9E%90%20%EA%B3%B5%EB%B6%80/%EC%A0%95%EA%B8%80/1%EC%A3%BC%EC%B0%A8/10.18/prac.ipynb#X15sZmlsZQ%3D%3D?line=11'>12</a>\u001b[0m \u001b[39melse\u001b[39;00m:\n\u001b[1;32m---> <a href='vscode-notebook-cell:/c%3A/Users/%EC%86%90%EC%9A%A9%EC%9E%AC/Desktop/%EA%B0%9C%EB%B0%9C%EC%9E%90%20%EA%B3%B5%EB%B6%80/%EC%A0%95%EA%B8%80/1%EC%A3%BC%EC%B0%A8/10.18/prac.ipynb#X15sZmlsZQ%3D%3D?line=12'>13</a>\u001b[0m     \u001b[39mif\u001b[39;00m command[\u001b[39m0\u001b[39;49m] \u001b[39m==\u001b[39m \u001b[39m'\u001b[39m\u001b[39mpop\u001b[39m\u001b[39m'\u001b[39m:\n\u001b[0;32m     <a href='vscode-notebook-cell:/c%3A/Users/%EC%86%90%EC%9A%A9%EC%9E%AC/Desktop/%EA%B0%9C%EB%B0%9C%EC%9E%90%20%EA%B3%B5%EB%B6%80/%EC%A0%95%EA%B8%80/1%EC%A3%BC%EC%B0%A8/10.18/prac.ipynb#X15sZmlsZQ%3D%3D?line=13'>14</a>\u001b[0m         \u001b[39mif\u001b[39;00m \u001b[39mlen\u001b[39m(data_queue) \u001b[39m==\u001b[39m \u001b[39m0\u001b[39m:\n\u001b[0;32m     <a href='vscode-notebook-cell:/c%3A/Users/%EC%86%90%EC%9A%A9%EC%9E%AC/Desktop/%EA%B0%9C%EB%B0%9C%EC%9E%90%20%EA%B3%B5%EB%B6%80/%EC%A0%95%EA%B8%80/1%EC%A3%BC%EC%B0%A8/10.18/prac.ipynb#X15sZmlsZQ%3D%3D?line=14'>15</a>\u001b[0m             \u001b[39mprint\u001b[39m(\u001b[39m-\u001b[39m\u001b[39m1\u001b[39m)\n",
      "\u001b[1;31mIndexError\u001b[0m: list index out of range"
     ]
    }
   ],
   "source": [
    "from collections import deque\n",
    "\n",
    "data_queue = deque()\n",
    "\n",
    "N = int(input())\n",
    "\n",
    "for i in range(N):\n",
    "    command = list(input().split())\n",
    "    if len(command) == 2:\n",
    "        command[1] = int(command[1])\n",
    "        data_queue.append(command[1])\n",
    "    else:\n",
    "        if command[0] == 'pop':\n",
    "            if len(data_queue) == 0:\n",
    "                print(-1)\n",
    "            else:\n",
    "                print(data_queue.popleft())\n",
    "        elif command[0] == 'size':\n",
    "            print(len(data_queue))\n",
    "        elif command[0] == 'empty':\n",
    "            if len(data_queue) == 0:\n",
    "                print(1)\n",
    "            else:\n",
    "                print(0)\n",
    "        elif command[0] == 'front':\n",
    "            if len(data_queue) == 0:\n",
    "                print(-1)\n",
    "            else:\n",
    "                print(data_queue[0])\n",
    "        elif command[0] == 'back':\n",
    "            if len(data_queue) == 0:\n",
    "                print(-1)\n",
    "            else:\n",
    "                print(data_queue[-1])"
   ]
  },
  {
   "cell_type": "code",
   "execution_count": null,
   "metadata": {},
   "outputs": [],
   "source": [
    "import sys\n",
    "from collections import deque\n",
    "n = int(input())\n",
    "queue = deque([])\n",
    "for i in range(n):\n",
    "    com = sys.stdin.readline().split()\n",
    "    if com[0] == 'push':\n",
    "        queue.append(com[1])\n",
    "    elif com[0] == 'pop':\n",
    "        if len(queue) == 0:\n",
    "            print(-1)\n",
    "        else:\n",
    "            print(queue.popleft())\n",
    "    elif com[0] == 'size':\n",
    "        print(len(queue))\n",
    "    elif com[0] == 'empty':\n",
    "        if len(queue) == 0:\n",
    "            print(1)\n",
    "        else:\n",
    "            print(0)\n",
    "    elif com[0] == 'front':\n",
    "        if len(queue) == 0:\n",
    "            print(-1)\n",
    "        else:\n",
    "            print(queue[0])\n",
    "    elif com[0] == 'back':\n",
    "        if len(queue) == 0:\n",
    "            print(-1)\n",
    "        else:\n",
    "            print(queue[-1])"
   ]
  },
  {
   "cell_type": "code",
   "execution_count": 26,
   "metadata": {},
   "outputs": [
    {
     "ename": "ValueError",
     "evalue": "invalid literal for int() with base 10: ''",
     "output_type": "error",
     "traceback": [
      "\u001b[1;31m---------------------------------------------------------------------------\u001b[0m",
      "\u001b[1;31mValueError\u001b[0m                                Traceback (most recent call last)",
      "\u001b[1;32mc:\\Users\\손용재\\Desktop\\개발자 공부\\정글\\1주차\\10.18\\prac.ipynb 셀 14\u001b[0m line \u001b[0;36m6\n\u001b[0;32m      <a href='vscode-notebook-cell:/c%3A/Users/%EC%86%90%EC%9A%A9%EC%9E%AC/Desktop/%EA%B0%9C%EB%B0%9C%EC%9E%90%20%EA%B3%B5%EB%B6%80/%EC%A0%95%EA%B8%80/1%EC%A3%BC%EC%B0%A8/10.18/prac.ipynb#X20sZmlsZQ%3D%3D?line=1'>2</a>\u001b[0m \u001b[39mimport\u001b[39;00m \u001b[39msys\u001b[39;00m\n\u001b[0;32m      <a href='vscode-notebook-cell:/c%3A/Users/%EC%86%90%EC%9A%A9%EC%9E%AC/Desktop/%EA%B0%9C%EB%B0%9C%EC%9E%90%20%EA%B3%B5%EB%B6%80/%EC%A0%95%EA%B8%80/1%EC%A3%BC%EC%B0%A8/10.18/prac.ipynb#X20sZmlsZQ%3D%3D?line=3'>4</a>\u001b[0m data_queue \u001b[39m=\u001b[39m deque()\n\u001b[1;32m----> <a href='vscode-notebook-cell:/c%3A/Users/%EC%86%90%EC%9A%A9%EC%9E%AC/Desktop/%EA%B0%9C%EB%B0%9C%EC%9E%90%20%EA%B3%B5%EB%B6%80/%EC%A0%95%EA%B8%80/1%EC%A3%BC%EC%B0%A8/10.18/prac.ipynb#X20sZmlsZQ%3D%3D?line=5'>6</a>\u001b[0m N \u001b[39m=\u001b[39m \u001b[39mint\u001b[39;49m(\u001b[39minput\u001b[39;49m())\n\u001b[0;32m      <a href='vscode-notebook-cell:/c%3A/Users/%EC%86%90%EC%9A%A9%EC%9E%AC/Desktop/%EA%B0%9C%EB%B0%9C%EC%9E%90%20%EA%B3%B5%EB%B6%80/%EC%A0%95%EA%B8%80/1%EC%A3%BC%EC%B0%A8/10.18/prac.ipynb#X20sZmlsZQ%3D%3D?line=7'>8</a>\u001b[0m \u001b[39mfor\u001b[39;00m i \u001b[39min\u001b[39;00m \u001b[39mrange\u001b[39m(N):\n\u001b[0;32m      <a href='vscode-notebook-cell:/c%3A/Users/%EC%86%90%EC%9A%A9%EC%9E%AC/Desktop/%EA%B0%9C%EB%B0%9C%EC%9E%90%20%EA%B3%B5%EB%B6%80/%EC%A0%95%EA%B8%80/1%EC%A3%BC%EC%B0%A8/10.18/prac.ipynb#X20sZmlsZQ%3D%3D?line=8'>9</a>\u001b[0m     command \u001b[39m=\u001b[39m \u001b[39mlist\u001b[39m(\u001b[39minput\u001b[39m()\u001b[39m.\u001b[39msplit())\n",
      "\u001b[1;31mValueError\u001b[0m: invalid literal for int() with base 10: ''"
     ]
    }
   ],
   "source": [
    "from collections import deque\n",
    "import sys\n",
    "\n",
    "data_queue = deque()\n",
    "\n",
    "N = int(sys.stdin.readline())\n",
    "\n",
    "for i in range(N):\n",
    "    command = list(sys.stdin.readline().split())\n",
    "    if len(command) == 2:\n",
    "        command[1] = int(command[1])\n",
    "        data_queue.append(command[1])\n",
    "    else:\n",
    "        if command[0] == 'pop':\n",
    "            if len(data_queue) == 0:\n",
    "                print(-1)\n",
    "            else:\n",
    "                print(data_queue.popleft())\n",
    "        elif command[0] == 'size':\n",
    "            print(len(data_queue))\n",
    "        elif command[0] == 'empty':\n",
    "            if len(data_queue) == 0:\n",
    "                print(1)\n",
    "            else:\n",
    "                print(0)\n",
    "        elif command[0] == 'front':\n",
    "            if len(data_queue) == 0:\n",
    "                print(-1)\n",
    "            else:\n",
    "                print(data_queue[0])\n",
    "        elif command[0] == 'back':\n",
    "            if len(data_queue) == 0:\n",
    "                print(-1)\n",
    "            else:\n",
    "                print(data_queue[-1])"
   ]
  },
  {
   "cell_type": "markdown",
   "metadata": {},
   "source": [
    "1914"
   ]
  },
  {
   "cell_type": "code",
   "execution_count": null,
   "metadata": {},
   "outputs": [],
   "source": [
    "cnt = 0\n",
    "cnt =+ 1"
   ]
  },
  {
   "cell_type": "code",
   "execution_count": 10,
   "metadata": {},
   "outputs": [
    {
     "name": "stdout",
     "output_type": "stream",
     "text": [
      "1\n",
      "1 3\n"
     ]
    }
   ],
   "source": [
    "N = int(input())\n",
    "\n",
    "def hanoi(n, start, mid, end):\n",
    "    # print(start, end)\n",
    "    if n == 1:\n",
    "        cnt =+ 1\n",
    "        print(cnt)\n",
    "        print(start, end)\n",
    "        return\n",
    "    else:\n",
    "        if start == 1:\n",
    "            return hanoi(n-1, 2, 1, 3)\n",
    "        elif start == 2:\n",
    "            return hanoi(n-1, 1, 2, 3)\n",
    "        \n",
    "\n",
    "hanoi(N, 1, 2, 3)"
   ]
  },
  {
   "cell_type": "code",
   "execution_count": null,
   "metadata": {},
   "outputs": [],
   "source": [
    "def hanoi_tower(n, start, end) :\n",
    "    if n == 1 :\n",
    "        print(start, end)\n",
    "        return\n",
    "\n",
    "    hanoi_tower(n-1, start, 6-start-end) # 1단계\n",
    "    print(start, end) # 2단계\n",
    "    hanoi_tower(n-1, 6-start-end, end) # 3단계\n",
    "\n",
    "n = int(input())\n",
    "print(2**n-1)\n",
    "hanoi_tower(n, 1, 3)"
   ]
  },
  {
   "cell_type": "code",
   "execution_count": 18,
   "metadata": {},
   "outputs": [
    {
     "name": "stdout",
     "output_type": "stream",
     "text": [
      "7\n",
      "1 3\n",
      "1 2\n",
      "3 2\n",
      "1 3\n",
      "2 1\n",
      "2 3\n",
      "1 3\n"
     ]
    }
   ],
   "source": [
    "N = int(input())\n",
    "\n",
    "def hanoi(n, start, end):\n",
    "    if n == 1:\n",
    "        print(start, end)\n",
    "    else:\n",
    "        hanoi(n-1, start, 6-start-end)\n",
    "        print(start, end)\n",
    "        hanoi(n-1, 6-start-end, end)\n",
    "\n",
    "print(2**N-1)\n",
    "hanoi(N,1,3)"
   ]
  }
 ],
 "metadata": {
  "kernelspec": {
   "display_name": "Python 3",
   "language": "python",
   "name": "python3"
  },
  "language_info": {
   "codemirror_mode": {
    "name": "ipython",
    "version": 3
   },
   "file_extension": ".py",
   "mimetype": "text/x-python",
   "name": "python",
   "nbconvert_exporter": "python",
   "pygments_lexer": "ipython3",
   "version": "3.11.6"
  }
 },
 "nbformat": 4,
 "nbformat_minor": 2
}
