{
 "cells": [
  {
   "cell_type": "markdown",
   "metadata": {},
   "source": [
    "10872 재귀함수"
   ]
  },
  {
   "cell_type": "code",
   "execution_count": null,
   "metadata": {},
   "outputs": [],
   "source": [
    "def function(입력):\n",
    "    if 입력 > 일정값: # 입력이 일정 값 이상이면\n",
    "        return function(입력 - 1) # 입력보다 작은 값\n",
    "    else:\n",
    "        return 일정값, 입력값, 또는 특정값 # 재귀 호출 종료"
   ]
  },
  {
   "cell_type": "code",
   "execution_count": 4,
   "metadata": {},
   "outputs": [],
   "source": [
    "def fact(N):\n",
    "    if N > 1:\n",
    "        return N*fact(N-1)\n",
    "    else:\n",
    "        return 1"
   ]
  },
  {
   "cell_type": "code",
   "execution_count": 5,
   "metadata": {},
   "outputs": [
    {
     "data": {
      "text/plain": [
       "3628800"
      ]
     },
     "execution_count": 5,
     "metadata": {},
     "output_type": "execute_result"
    }
   ],
   "source": [
    "fact(10)"
   ]
  },
  {
   "cell_type": "markdown",
   "metadata": {},
   "source": [
    "1914"
   ]
  },
  {
   "cell_type": "code",
   "execution_count": null,
   "metadata": {},
   "outputs": [],
   "source": [
    "def function(입력):\n",
    "    if 입력 > 일정값: # 입력이 일정 값 이상이면\n",
    "        return function(입력 - 1) # 입력보다 작은 값\n",
    "    else:\n",
    "        return 일정값, 입력값, 또는 특정값 # 재귀 호출 종료"
   ]
  },
  {
   "cell_type": "code",
   "execution_count": null,
   "metadata": {},
   "outputs": [],
   "source": [
    "# 입력 : 첫번재 줄에 쌓인 탑의 수\n",
    "# 출력 : 최소로 옮긴 횟수, 'A번의돌 B탑으로'\n",
    "# 알고리즘 : "
   ]
  },
  {
   "cell_type": "code",
   "execution_count": null,
   "metadata": {},
   "outputs": [],
   "source": [
    "def hanoi(n, 시작기둥, 보조기둥, 목표기둥):\n",
    "    if n == 1:\n",
    "        print(f\"{시작기둥}에서 {목표기둥}으로 원판 1을 옮깁니다.\")\n",
    "        return\n",
    "    hanoi(n-1, 시작기둥, 목표기둥, 보조기둥)\n",
    "    print(f\"{시작기둥}에서 {목표기둥}으로 원판 {n}을 옮깁니다.\")\n",
    "    hanoi(n-1, 보조기둥, 시작기둥, 목표기둥)"
   ]
  },
  {
   "cell_type": "code",
   "execution_count": 7,
   "metadata": {},
   "outputs": [],
   "source": [
    "def hanoi(n, 시작기둥, 보조기둥, 목표기둥):\n",
    "    if n == 1:\n",
    "        return\n",
    "    hanoi(n-1, 시작기둥, 목표기둥, 보조기둥)\n",
    "    hanoi(n-1, 보조기둥, 시작기둥, 목표기둥)\n"
   ]
  },
  {
   "cell_type": "code",
   "execution_count": 8,
   "metadata": {},
   "outputs": [
    {
     "name": "stdout",
     "output_type": "stream",
     "text": [
      "7\n",
      "1 3\n",
      "1 2\n",
      "3 2\n",
      "1 3\n",
      "2 1\n",
      "2 3\n",
      "1 3\n"
     ]
    }
   ],
   "source": [
    "def hanoi_tower(n, start, end) :\n",
    "    if n == 1 :\n",
    "        print(start, end)\n",
    "        return\n",
    "       \n",
    "    hanoi_tower(n-1, start, 6-start-end) # 1단계\n",
    "    print(start, end) # 2단계\n",
    "    hanoi_tower(n-1, 6-start-end, end) # 3단계\n",
    "    \n",
    "n = int(input())\n",
    "print(2**n-1)\n",
    "hanoi_tower(n, 1, 3)"
   ]
  }
 ],
 "metadata": {
  "kernelspec": {
   "display_name": "Python 3",
   "language": "python",
   "name": "python3"
  },
  "language_info": {
   "codemirror_mode": {
    "name": "ipython",
    "version": 3
   },
   "file_extension": ".py",
   "mimetype": "text/x-python",
   "name": "python",
   "nbconvert_exporter": "python",
   "pygments_lexer": "ipython3",
   "version": "3.11.6"
  }
 },
 "nbformat": 4,
 "nbformat_minor": 2
}
