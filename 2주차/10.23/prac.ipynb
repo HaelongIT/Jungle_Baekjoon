{
 "cells": [
  {
   "cell_type": "code",
   "execution_count": 2,
   "metadata": {},
   "outputs": [
    {
     "name": "stdout",
     "output_type": "stream",
     "text": [
      "Hello\n"
     ]
    }
   ],
   "source": [
    "print('Hello')"
   ]
  },
  {
   "cell_type": "markdown",
   "metadata": {},
   "source": [
    "5639"
   ]
  },
  {
   "cell_type": "markdown",
   "metadata": {},
   "source": [
    "전위순회 결과를 입력\n",
    "그걸 트리 구조로 변경하거나 곧바로 후위순회로 변경시켜(그냥 곧바로 변경하는게 나을듯)\n",
    "(아니면 전위순회로 받으면서 곧바로 딕셔너리로 받을 방법이 없나)\n",
    "후위순회 결과를 출력\n",
    "\n",
    "50 30 24 5 28 45 98 52 60\n",
    "5 28 24 45 30 60 52 98 50"
   ]
  },
  {
   "cell_type": "code",
   "execution_count": null,
   "metadata": {},
   "outputs": [],
   "source": [
    "import sys\n",
    "input = sys.stdin.readline\n",
    "#recursion error 방지\n",
    "sys.setrecursionlimit(10**9)\n",
    "\n",
    "arr = []\n",
    "while True:\n",
    "    try:\n",
    "        x = int(input())\n",
    "        arr.append(x)\n",
    "    except:\n",
    "        break\n",
    "\n",
    "\n",
    "def solution(A):\n",
    "    # 받은 배열 길이가 0이면 return\n",
    "    if len(A) == 0:\n",
    "        return\n",
    "\n",
    "    tempL, tempR = [], []\n",
    "    # 첫번째 값을 루트 노드로 설정\n",
    "    mid = A[0]\n",
    "    # 나머지 배열에 대해 for문을 돌면서 루트보다 커지는 부분을 기록해서 L과 R로 나눈다.\n",
    "    for i in range(1, len(A)):\n",
    "        if A[i] > mid:\n",
    "            tempL = A[1:i]\n",
    "            tempR = A[i:]\n",
    "            break\n",
    "    else:\n",
    "    \t#모두 mid보다 작은 경우\n",
    "        tempL = A[1:]\n",
    "    \n",
    "    #왼쪽, 오른쪽 순으로 재귀 후 루트 노드 값 출력\n",
    "    solution(tempL)\n",
    "    solution(tempR)\n",
    "    print(mid)\n",
    "\n",
    "solution(arr)"
   ]
  },
  {
   "cell_type": "code",
   "execution_count": 4,
   "metadata": {},
   "outputs": [
    {
     "name": "stdout",
     "output_type": "stream",
     "text": [
      "[50, 30, 24]\n"
     ]
    }
   ],
   "source": [
    "num_list = []\n",
    "\n",
    "while True:\n",
    "    try:\n",
    "        num = int(input())\n",
    "        num_list.append(num)\n",
    "    except:\n",
    "        break\n",
    "\n",
    "print(num_list)"
   ]
  },
  {
   "cell_type": "markdown",
   "metadata": {},
   "source": [
    "1991"
   ]
  },
  {
   "cell_type": "code",
   "execution_count": null,
   "metadata": {},
   "outputs": [],
   "source": [
    "import sys\n",
    " \n",
    "N = int(sys.stdin.readline().strip())\n",
    "tree = {}\n",
    " \n",
    "for n in range(N):\n",
    "    root, left, right = sys.stdin.readline().strip().split()\n",
    "    tree[root] = [left, right]\n",
    " \n",
    " \n",
    "def preorder(root):\n",
    "    if root != '.':\n",
    "        print(root, end='')  # root\n",
    "        preorder(tree[root][0])  # left\n",
    "        preorder(tree[root][1])  # right\n",
    " \n",
    " \n",
    "def inorder(root):\n",
    "    if root != '.':\n",
    "        inorder(tree[root][0])  # left\n",
    "        print(root, end='')  # root\n",
    "        inorder(tree[root][1])  # right\n",
    " \n",
    " \n",
    "def postorder(root):\n",
    "    if root != '.':\n",
    "        postorder(tree[root][0])  # left\n",
    "        postorder(tree[root][1])  # right\n",
    "        print(root, end='')  # root\n",
    " \n",
    " \n",
    "preorder('A')\n",
    "print()\n",
    "inorder('A')\n",
    "print()\n",
    "postorder('A')"
   ]
  },
  {
   "cell_type": "markdown",
   "metadata": {},
   "source": [
    "5639"
   ]
  },
  {
   "cell_type": "code",
   "execution_count": null,
   "metadata": {},
   "outputs": [],
   "source": [
    "import sys\n",
    "sys.setrecursionlimit(10 ** 9)\n",
    "input = sys.stdin.readline\n",
    "\n",
    "pre = []\n",
    "while True:\n",
    "    try:\n",
    "        pre.append(int(input()))\n",
    "    except:\n",
    "        break\n",
    "\n",
    "def post(start, end):\n",
    "    if start > end:\n",
    "        return\n",
    "    # 베이스케이스 : \n",
    "\n",
    "    mid = end + 1\n",
    "    for i in range(start + 1, end + 1):\n",
    "        if pre[i] > pre[start]:\n",
    "            mid = i\n",
    "            break\n",
    "    post(start + 1, mid - 1) #왼쪽 트리\n",
    "    post(mid, end) #오른쪽 트리\n",
    "    print(pre[start]) #루트 노드\n",
    "\n",
    "post(0, len(pre) - 1)"
   ]
  },
  {
   "cell_type": "markdown",
   "metadata": {},
   "source": [
    "1197\n",
    "<!-- 힌트받음 : 크루스칼 알고리즘으로 -->"
   ]
  },
  {
   "cell_type": "code",
   "execution_count": 7,
   "metadata": {},
   "outputs": [],
   "source": [
    "import sys\n",
    "input = lambda: sys.stdin.readline().rstrip()\n",
    "\n",
    "V, E = map(int, input().split())\n",
    "\n",
    "# Kruskal Algorithm\n",
    "# https://techblog-history-younghunjo1.tistory.com/262\n",
    "edges = []\n",
    "for _ in range(E):\n",
    "    A, B, C = map(int, input().split())\n",
    "    edges.append((A, B, C))\n",
    "edges.sort(key=lambda x: x[2]) # C(Cost)가 적은 것부터 정렬\n",
    "\n",
    "\n",
    "# Union-Find\n",
    "parent = [i for i in range(V+1)]\n",
    "\n",
    "def get_parent(x):\n",
    "    if parent[x] == x:\n",
    "        return x\n",
    "    parent[x] = get_parent(parent[x]) # get_parent 거슬러 올라가면서 parent[x] 값도 갱신\n",
    "    return parent[x]\n",
    "\n",
    "def union_parent(a, b):\n",
    "    a = get_parent(a)\n",
    "    b = get_parent(b)\n",
    "\n",
    "    if a < b: # 작은 쪽이 부모가 된다. (한 집합 관계라서 부모가 따로 있는 건 아님)\n",
    "        parent[b] = a\n",
    "    else:\n",
    "        parent[a] = b        \n",
    "\n",
    "def same_parent(a, b):\n",
    "    return get_parent(a) == get_parent(b)\n",
    "\n",
    "\n",
    "answer = 0\n",
    "for a, b, cost in edges:\n",
    "    # cost가 작은 edge부터 하나씩 추가해가면서 같은 부모를 공유하지 않을 때(사이클 없을 때)만 확정\n",
    "    if not same_parent(a, b):\n",
    "        union_parent(a, b)\n",
    "        answer += cost\n",
    "print(answer)"
   ]
  },
  {
   "cell_type": "code",
   "execution_count": 6,
   "metadata": {},
   "outputs": [
    {
     "name": "stdout",
     "output_type": "stream",
     "text": [
      "[0, 1, 2, 3, 4, 5, 6]\n"
     ]
    }
   ],
   "source": [
    "V = 6\n",
    "parent = [i for i in range(V+1)]\n",
    "print(parent)"
   ]
  },
  {
   "cell_type": "markdown",
   "metadata": {},
   "source": [
    "11724"
   ]
  },
  {
   "cell_type": "markdown",
   "metadata": {},
   "source": [
    "어떻게 해야지 연결 요소의 갯수를 확인할 수 있을까\n"
   ]
  },
  {
   "cell_type": "code",
   "execution_count": null,
   "metadata": {},
   "outputs": [],
   "source": [
    "def dfs(v):\n",
    "    visited[v] = True\n",
    "    for i in graph[v]:\n",
    "        if visited[i] == False:\n",
    "            visited[i] = True\n",
    "            dfs(i)"
   ]
  },
  {
   "cell_type": "markdown",
   "metadata": {},
   "source": [
    "2606"
   ]
  },
  {
   "cell_type": "markdown",
   "metadata": {},
   "source": []
  },
  {
   "cell_type": "markdown",
   "metadata": {},
   "source": [
    "https://velog.io/@eddy_song/you-can-solve-recursion\n",
    "\n",
    "재귀함수 연습"
   ]
  },
  {
   "cell_type": "code",
   "execution_count": 3,
   "metadata": {},
   "outputs": [],
   "source": [
    "def reverseString(s):   # s는 어떠한 문자열\n",
    "    # 베이스케이스\n",
    "    if len(s) == 0:\n",
    "        return \"\"\n",
    "    \n",
    "    # 분해 + 조합\n",
    "    return reverseString(s[1:]) + s[0]"
   ]
  },
  {
   "cell_type": "code",
   "execution_count": 4,
   "metadata": {},
   "outputs": [
    {
     "data": {
      "text/plain": [
       "'yarG'"
      ]
     },
     "execution_count": 4,
     "metadata": {},
     "output_type": "execute_result"
    }
   ],
   "source": [
    "reverseString(\"Gray\")"
   ]
  },
  {
   "cell_type": "code",
   "execution_count": 5,
   "metadata": {},
   "outputs": [],
   "source": [
    "class ListNode:\n",
    "    def __init__(self, val=0, next=None):\n",
    "        self.val = val\n",
    "        self.next = next\n",
    "\n",
    "def mergeTwoLists(list1, list2):\n",
    "    # 베이스 조건 1. list1, list2의 길이가 둘 다 0일 때\n",
    "    if not list1 and not list2:\n",
    "        return None\n",
    "\n",
    "    # 베이스 조건 2. 둘 중 한쪽의 길이가 0일 때\n",
    "    if not list1:\n",
    "        return list2\n",
    "    if not list2:\n",
    "        return list1\n",
    "\n",
    "    # 베이스 조건 3. 둘 다 길이가 1일 때\n",
    "    if not list1.next and not list2.next:\n",
    "        if list1.val < list2.val:\n",
    "            list1.next = list2\n",
    "            return list1\n",
    "        else:\n",
    "            list2.next = list1\n",
    "            return list2\n",
    "\n",
    "    # 분해: 자기 자신을 호출하면서, 더 Head의 값이 작은 리스트에서 head를 떼내고 넣어줌.\n",
    "    # 조합: 그 결과값의 앞에 떼어냈던 head를 붙이고, 그 head를 반환함.\n",
    "    if list1.val <= list2.val:\n",
    "        list1.next = mergeTwoLists(list1.next, list2)\n",
    "        return list1\n",
    "    else:\n",
    "        list2.next = mergeTwoLists(list2.next, list1)\n",
    "        return list2\n"
   ]
  },
  {
   "cell_type": "code",
   "execution_count": 9,
   "metadata": {},
   "outputs": [
    {
     "name": "stdout",
     "output_type": "stream",
     "text": [
      "1 -> 1 -> 2 -> 3 -> 4 -> 4 -> None\n"
     ]
    }
   ],
   "source": [
    "# mergeTwoLists 함수 사용 예제\n",
    "def print_linked_list(head):\n",
    "    while head:\n",
    "        print(head.val, end=\" -> \")\n",
    "        head = head.next\n",
    "    print(\"None\")\n",
    "\n",
    "# 두 개의 정렬된 연결 리스트 생성\n",
    "list1 = ListNode(1, ListNode(2, ListNode(4)))\n",
    "list2 = ListNode(1, ListNode(3, ListNode(4)))\n",
    "\n",
    "# 두 연결 리스트 병합\n",
    "merged_list = mergeTwoLists(list1, list2)\n",
    "\n",
    "# 병합 결과 출력\n",
    "print_linked_list(merged_list)"
   ]
  },
  {
   "cell_type": "code",
   "execution_count": null,
   "metadata": {},
   "outputs": [],
   "source": [
    "# 수도코드\n",
    "\n",
    "# 하노이\n",
    "#     큰것보다 작은것을 2번으로 옮긴다\n",
    "#     제일 큰 링을 3번으로 옮긴다\n",
    "#     옮겼던 것을 3번으로 옮긴다\n",
    "\n",
    "# dfs(노드)\n",
    "#     노드를 확인한다 - visited.append(node)\n",
    "#     노드와 연결된 값을 가져온다 arr[node]\n",
    "#     노드와 연결된 값의 노드를 확인한다 - 재귀 dfs(i)"
   ]
  },
  {
   "cell_type": "markdown",
   "metadata": {},
   "source": [
    "1991"
   ]
  },
  {
   "cell_type": "code",
   "execution_count": null,
   "metadata": {},
   "outputs": [],
   "source": [
    "import sys\n",
    "\n",
    "N = int(sys.stdin.readline().strip())\n",
    "tree = {}\n",
    "\n",
    "for n in range(N):\n",
    "    root, left, right = sys.stdin.readline().strip().split()\n",
    "    tree[root] = [left, right]\n",
    "\n",
    "\n",
    "def preorder(root):\n",
    "    if root != '.':\n",
    "        print(root, end='')  # root\n",
    "        preorder(tree[root][0])  # left\n",
    "        preorder(tree[root][1])  # right\n",
    "\n",
    "\n",
    "def inorder(root):\n",
    "    if root != '.':\n",
    "        inorder(tree[root][0])  # left\n",
    "        print(root, end='')  # root\n",
    "        inorder(tree[root][1])  # right\n",
    " \n",
    " \n",
    "def postorder(root):\n",
    "    if root != '.':\n",
    "        postorder(tree[root][0])  # left\n",
    "        postorder(tree[root][1])  # right\n",
    "        print(root, end='')  # root\n",
    " \n",
    " \n",
    "preorder('A')\n",
    "print()\n",
    "inorder('A')\n",
    "print()\n",
    "postorder('A')"
   ]
  },
  {
   "cell_type": "code",
   "execution_count": 11,
   "metadata": {},
   "outputs": [
    {
     "ename": "ValueError",
     "evalue": "invalid literal for int() with base 10: ''",
     "output_type": "error",
     "traceback": [
      "\u001b[1;31m---------------------------------------------------------------------------\u001b[0m",
      "\u001b[1;31mValueError\u001b[0m                                Traceback (most recent call last)",
      "\u001b[1;32mc:\\Users\\손용재\\Desktop\\개발자\\정글\\2주차\\10.23\\prac.ipynb 셀 26\u001b[0m line \u001b[0;36m1\n\u001b[1;32m----> <a href='vscode-notebook-cell:/c%3A/Users/%EC%86%90%EC%9A%A9%EC%9E%AC/Desktop/%EA%B0%9C%EB%B0%9C%EC%9E%90/%EC%A0%95%EA%B8%80/2%EC%A3%BC%EC%B0%A8/10.23/prac.ipynb#X40sZmlsZQ%3D%3D?line=0'>1</a>\u001b[0m N \u001b[39m=\u001b[39m \u001b[39mint\u001b[39;49m(\u001b[39minput\u001b[39;49m()\u001b[39m.\u001b[39;49mstrip())\n\u001b[0;32m      <a href='vscode-notebook-cell:/c%3A/Users/%EC%86%90%EC%9A%A9%EC%9E%AC/Desktop/%EA%B0%9C%EB%B0%9C%EC%9E%90/%EC%A0%95%EA%B8%80/2%EC%A3%BC%EC%B0%A8/10.23/prac.ipynb#X40sZmlsZQ%3D%3D?line=1'>2</a>\u001b[0m tree \u001b[39m=\u001b[39m {}\n\u001b[0;32m      <a href='vscode-notebook-cell:/c%3A/Users/%EC%86%90%EC%9A%A9%EC%9E%AC/Desktop/%EA%B0%9C%EB%B0%9C%EC%9E%90/%EC%A0%95%EA%B8%80/2%EC%A3%BC%EC%B0%A8/10.23/prac.ipynb#X40sZmlsZQ%3D%3D?line=3'>4</a>\u001b[0m \u001b[39mfor\u001b[39;00m n \u001b[39min\u001b[39;00m \u001b[39mrange\u001b[39m(N):\n",
      "\u001b[1;31mValueError\u001b[0m: invalid literal for int() with base 10: ''"
     ]
    }
   ],
   "source": [
    "import sys\n",
    "\n",
    "N = int(sys.stdin.readline().strip())\n",
    "tree = {}\n",
    "\n",
    "for n in range(N):\n",
    "    root, left, right = sys.stdin.readline().strip().split()\n",
    "    tree[root] = [left, right]"
   ]
  },
  {
   "cell_type": "code",
   "execution_count": 10,
   "metadata": {},
   "outputs": [],
   "source": [
    "def preO(root):\n",
    "    if root == \".\":\n",
    "        return\n",
    "    else:\n",
    "        print(root, end='')\n",
    "        postorder(tree[root][0])\n",
    "        preorder(tree[root][1])"
   ]
  },
  {
   "cell_type": "code",
   "execution_count": null,
   "metadata": {},
   "outputs": [],
   "source": [
    "preorder('A')"
   ]
  }
 ],
 "metadata": {
  "kernelspec": {
   "display_name": "Python 3",
   "language": "python",
   "name": "python3"
  },
  "language_info": {
   "codemirror_mode": {
    "name": "ipython",
    "version": 3
   },
   "file_extension": ".py",
   "mimetype": "text/x-python",
   "name": "python",
   "nbconvert_exporter": "python",
   "pygments_lexer": "ipython3",
   "version": "3.11.6"
  }
 },
 "nbformat": 4,
 "nbformat_minor": 2
}
