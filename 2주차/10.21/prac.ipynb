{
 "cells": [
  {
   "cell_type": "markdown",
   "metadata": {},
   "source": [
    "1991"
   ]
  },
  {
   "cell_type": "code",
   "execution_count": null,
   "metadata": {},
   "outputs": [],
   "source": [
    "class Node:\n",
    "    def __init__(self, value):\n",
    "        self.value = value\n",
    "        self.left = None\n",
    "        self.right = None"
   ]
  },
  {
   "cell_type": "code",
   "execution_count": null,
   "metadata": {},
   "outputs": [],
   "source": [
    "# def insert(parents, left, right):\n",
    "#     # root가 없으면 만들고 왼쪽 오른쪽 연결\n",
    "#     # root가 있으면 왼쪽 오른쪽 연결\n",
    "\n",
    "#     if parents == 'A':\n",
    "#         tree = Node('A')\n",
    "#         tree.left = left\n",
    "#         tree.right = right\n",
    "\n",
    "#     # parents를 찾기만 하면, 왼쪽 오른쪽 넣는건 쉬운데..\n",
    "#     current = tree.value\n",
    "    \n",
    "#     while current:\n",
    "#         if current > parents:\n",
    "\n",
    "\n",
    "\n",
    "\n",
    "        \n",
    "\n",
    "\n",
    "# def search(root, value):\n",
    "#     current = root\n",
    "    \n",
    "#     if root is None:\n",
    "#         return False\n",
    "    \n",
    "#     while current:\n",
    "#         if current > value:\n",
    "#             current = current.left\n",
    "#         elif current < value:\n",
    "#             current = current.right\n",
    "#         else:\n",
    "#             return True\n",
    "#     return False\n"
   ]
  },
  {
   "cell_type": "code",
   "execution_count": 1,
   "metadata": {},
   "outputs": [],
   "source": [
    "class Node:\n",
    "    def __init__(self, value, left, right):\n",
    "        self.value = value\n",
    "        if left == '.':\n",
    "            self.left = None\n",
    "        else:\n",
    "            self.left = left\n",
    "        if right == '.':\n",
    "            self.right = None\n",
    "        else:\n",
    "            self.right = right"
   ]
  },
  {
   "cell_type": "code",
   "execution_count": 6,
   "metadata": {},
   "outputs": [],
   "source": [
    "a= Node('A', 'B', 'C')"
   ]
  },
  {
   "cell_type": "code",
   "execution_count": 9,
   "metadata": {},
   "outputs": [
    {
     "name": "stdout",
     "output_type": "stream",
     "text": [
      "B\n"
     ]
    }
   ],
   "source": [
    "print(a.left)"
   ]
  },
  {
   "cell_type": "code",
   "execution_count": 10,
   "metadata": {},
   "outputs": [
    {
     "name": "stdout",
     "output_type": "stream",
     "text": [
      "['1', '2', '3']\n"
     ]
    }
   ],
   "source": [
    "data = []\n",
    "data = input().split()\n",
    "\n",
    "print(data)"
   ]
  },
  {
   "cell_type": "code",
   "execution_count": 11,
   "metadata": {},
   "outputs": [],
   "source": [
    "my_tree= {}\n",
    "\n",
    "data = []\n",
    "\n",
    "N = int(input())\n",
    "\n",
    "for i in range(N):\n",
    "    data = input().split()\n",
    "\n",
    "    my_tree[data[0]] = [data[1], data[2]]"
   ]
  },
  {
   "cell_type": "code",
   "execution_count": 13,
   "metadata": {},
   "outputs": [
    {
     "name": "stdout",
     "output_type": "stream",
     "text": [
      "['B', 'C']\n"
     ]
    }
   ],
   "source": [
    "def preorder():\n",
    "    "
   ]
  },
  {
   "cell_type": "code",
   "execution_count": null,
   "metadata": {},
   "outputs": [],
   "source": [
    "import sys\n",
    "\n",
    "N = int(sys.stdin.readline().strip())\n",
    "tree = {}\n",
    "\n",
    "for n in range(N):\n",
    "    root, left, right = sys.stdin.readline().strip().split()\n",
    "    tree[root] = [left, right]\n",
    "\n",
    "\n",
    "def preorder(root):\n",
    "    if root != '.':\n",
    "        print(root, end='')  # root\n",
    "        preorder(tree[root][0])  # left\n",
    "        preorder(tree[root][1])  # right\n",
    "\n",
    "\n",
    "def inorder(root):\n",
    "    if root != '.':\n",
    "        inorder(tree[root][0])  # left\n",
    "        print(root, end='')  # root\n",
    "        inorder(tree[root][1])  # right\n",
    " \n",
    " \n",
    "def postorder(root):\n",
    "    if root != '.':\n",
    "        postorder(tree[root][0])  # left\n",
    "        postorder(tree[root][1])  # right\n",
    "        print(root, end='')  # root\n",
    " \n",
    " \n",
    "preorder('A')\n",
    "print()\n",
    "inorder('A')\n",
    "print()\n",
    "postorder('A')"
   ]
  }
 ],
 "metadata": {
  "kernelspec": {
   "display_name": "Python 3",
   "language": "python",
   "name": "python3"
  },
  "language_info": {
   "codemirror_mode": {
    "name": "ipython",
    "version": 3
   },
   "file_extension": ".py",
   "mimetype": "text/x-python",
   "name": "python",
   "nbconvert_exporter": "python",
   "pygments_lexer": "ipython3",
   "version": "3.11.6"
  }
 },
 "nbformat": 4,
 "nbformat_minor": 2
}
