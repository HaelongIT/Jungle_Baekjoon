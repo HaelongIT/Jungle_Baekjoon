{
 "cells": [
  {
   "cell_type": "markdown",
   "metadata": {},
   "source": [
    "bfs / dfs"
   ]
  },
  {
   "cell_type": "code",
   "execution_count": 28,
   "metadata": {},
   "outputs": [
    {
     "name": "stdout",
     "output_type": "stream",
     "text": [
      "1 "
     ]
    },
    {
     "ename": "TypeError",
     "evalue": "list indices must be integers or slices, not str",
     "output_type": "error",
     "traceback": [
      "\u001b[1;31m---------------------------------------------------------------------------\u001b[0m",
      "\u001b[1;31mTypeError\u001b[0m                                 Traceback (most recent call last)",
      "\u001b[1;32mc:\\Users\\손용재\\Desktop\\개발자\\정글\\2주차\\10.25\\prac.ipynb 셀 2\u001b[0m line \u001b[0;36m3\n\u001b[0;32m     <a href='vscode-notebook-cell:/c%3A/Users/%EC%86%90%EC%9A%A9%EC%9E%AC/Desktop/%EA%B0%9C%EB%B0%9C%EC%9E%90/%EC%A0%95%EA%B8%80/2%EC%A3%BC%EC%B0%A8/10.25/prac.ipynb#W0sZmlsZQ%3D%3D?line=33'>34</a>\u001b[0m visited \u001b[39m=\u001b[39m [\u001b[39mFalse\u001b[39;00m] \u001b[39m*\u001b[39m \u001b[39m9\u001b[39m\n\u001b[0;32m     <a href='vscode-notebook-cell:/c%3A/Users/%EC%86%90%EC%9A%A9%EC%9E%AC/Desktop/%EA%B0%9C%EB%B0%9C%EC%9E%90/%EC%A0%95%EA%B8%80/2%EC%A3%BC%EC%B0%A8/10.25/prac.ipynb#W0sZmlsZQ%3D%3D?line=35'>36</a>\u001b[0m \u001b[39m# 정의된 BFS 함수 호출\u001b[39;00m\n\u001b[1;32m---> <a href='vscode-notebook-cell:/c%3A/Users/%EC%86%90%EC%9A%A9%EC%9E%AC/Desktop/%EA%B0%9C%EB%B0%9C%EC%9E%90/%EC%A0%95%EA%B8%80/2%EC%A3%BC%EC%B0%A8/10.25/prac.ipynb#W0sZmlsZQ%3D%3D?line=36'>37</a>\u001b[0m bfs(graph, \u001b[39m1\u001b[39;49m, visited)\n",
      "\u001b[1;32mc:\\Users\\손용재\\Desktop\\개발자\\정글\\2주차\\10.25\\prac.ipynb 셀 2\u001b[0m line \u001b[0;36m1\n\u001b[0;32m     <a href='vscode-notebook-cell:/c%3A/Users/%EC%86%90%EC%9A%A9%EC%9E%AC/Desktop/%EA%B0%9C%EB%B0%9C%EC%9E%90/%EC%A0%95%EA%B8%80/2%EC%A3%BC%EC%B0%A8/10.25/prac.ipynb#W0sZmlsZQ%3D%3D?line=13'>14</a>\u001b[0m \u001b[39m# 해당 원소와 연결된, 아직 방문하지 않은 원소들을 큐에 삽입\u001b[39;00m\n\u001b[0;32m     <a href='vscode-notebook-cell:/c%3A/Users/%EC%86%90%EC%9A%A9%EC%9E%AC/Desktop/%EA%B0%9C%EB%B0%9C%EC%9E%90/%EC%A0%95%EA%B8%80/2%EC%A3%BC%EC%B0%A8/10.25/prac.ipynb#W0sZmlsZQ%3D%3D?line=14'>15</a>\u001b[0m \u001b[39mfor\u001b[39;00m i \u001b[39min\u001b[39;00m graph[v]:\n\u001b[1;32m---> <a href='vscode-notebook-cell:/c%3A/Users/%EC%86%90%EC%9A%A9%EC%9E%AC/Desktop/%EA%B0%9C%EB%B0%9C%EC%9E%90/%EC%A0%95%EA%B8%80/2%EC%A3%BC%EC%B0%A8/10.25/prac.ipynb#W0sZmlsZQ%3D%3D?line=15'>16</a>\u001b[0m     \u001b[39mif\u001b[39;00m \u001b[39mnot\u001b[39;00m visited[i]:\n\u001b[0;32m     <a href='vscode-notebook-cell:/c%3A/Users/%EC%86%90%EC%9A%A9%EC%9E%AC/Desktop/%EA%B0%9C%EB%B0%9C%EC%9E%90/%EC%A0%95%EA%B8%80/2%EC%A3%BC%EC%B0%A8/10.25/prac.ipynb#W0sZmlsZQ%3D%3D?line=16'>17</a>\u001b[0m         queue\u001b[39m.\u001b[39mappend(i)\n\u001b[0;32m     <a href='vscode-notebook-cell:/c%3A/Users/%EC%86%90%EC%9A%A9%EC%9E%AC/Desktop/%EA%B0%9C%EB%B0%9C%EC%9E%90/%EC%A0%95%EA%B8%80/2%EC%A3%BC%EC%B0%A8/10.25/prac.ipynb#W0sZmlsZQ%3D%3D?line=17'>18</a>\u001b[0m         visited[i] \u001b[39m=\u001b[39m \u001b[39mTrue\u001b[39;00m\n",
      "\u001b[1;31mTypeError\u001b[0m: list indices must be integers or slices, not str"
     ]
    }
   ],
   "source": [
    "from collections import deque\n",
    "\n",
    "# BFS 함수 정의\n",
    "def bfs(graph, start, visited):\n",
    "    # 큐(Queue) 구현을 위해 deque 라이브러리 사용\n",
    "    queue = deque([start])\n",
    "    # 현재 노드를 방문 처리\n",
    "    visited[start] = True\n",
    "    # 큐가 빌 때까지 반복\n",
    "    while queue:\n",
    "        # 큐에서 하나의 원소를 뽑아 출력\n",
    "        v = queue.popleft()\n",
    "        print(v, end=' ')\n",
    "        # 해당 원소와 연결된, 아직 방문하지 않은 원소들을 큐에 삽입\n",
    "        for i in graph[v]:\n",
    "            if not visited[i]:\n",
    "                queue.append(i)\n",
    "                visited[i] = True\n",
    "\n",
    "# 각 노드가 연결된 정보를 리스트 자료형으로 표현(2차원 리스트)\n",
    "graph = [\n",
    "  [],\n",
    "  [2, 3, 8],\n",
    "  [1, 7],\n",
    "  [1, 4, 5],\n",
    "  [3, 5],\n",
    "  [3, 4],\n",
    "  [7],\n",
    "  [2, 6, 8],\n",
    "  [1, 7]\n",
    "]\n",
    "\n",
    "# 각 노드가 방문된 정보를 리스트 자료형으로 표현(1차원 리스트)\n",
    "visited = [False] * 9\n",
    "\n",
    "# 정의된 BFS 함수 호출\n",
    "bfs(graph, 1, visited)"
   ]
  },
  {
   "cell_type": "code",
   "execution_count": null,
   "metadata": {},
   "outputs": [],
   "source": [
    "from collections import deque\n",
    "\n",
    "def bfs(graph, start, visited):\n",
    "    need = deque([start])\n",
    "    visited[start] = True\n",
    "\n",
    "    while need:\n",
    "        temp = need.popleft()\n",
    "        print(temp)\n",
    "\n",
    "        for i in graph[temp]:\n",
    "            if visited[i] == False:\n",
    "                need.append(i)\n",
    "                visited[i] = True"
   ]
  },
  {
   "cell_type": "code",
   "execution_count": null,
   "metadata": {},
   "outputs": [],
   "source": [
    "# DFS 함수 정의\n",
    "def dfs(graph, v, visited):\n",
    "    # 현재 노드를 방문 처리\n",
    "    visited[v] = True\n",
    "    print(v, end=' ')\n",
    "    # 현재 노드와 연결된 다른 노드를 재귀적으로 방문\n",
    "    for i in graph[v]:\n",
    "        if not visited[i]:\n",
    "            dfs(graph, i, visited)\n",
    "\n",
    "# 각 노드가 연결된 정보를 리스트 자료형으로 표현(2차원 리스트)\n",
    "graph = [\n",
    "  [],\n",
    "  [2, 3, 8],\n",
    "  [1, 7],\n",
    "  [1, 4, 5],\n",
    "  [3, 5],\n",
    "  [3, 4],\n",
    "  [7],\n",
    "  [2, 6, 8],\n",
    "  [1, 7]\n",
    "]\n",
    "\n",
    "# 각 노드가 방문된 정보를 리스트 자료형으로 표현(1차원 리스트)\n",
    "visited = [False] * 9\n",
    "\n",
    "# 정의된 DFS 함수 호출\n",
    "dfs(graph, 1, visited)"
   ]
  },
  {
   "cell_type": "code",
   "execution_count": null,
   "metadata": {},
   "outputs": [],
   "source": [
    "def dfs(graph, v, visited):\n",
    "    visited[v] = True\n",
    "    print(v)\n",
    "\n",
    "    for i in graph[v]:\n",
    "        # if visited[i] == False:\n",
    "        if not visited:\n",
    "            dfs(graph, i, visited)\n",
    "\n",
    "# 베이스케이스 : graph[v]에 해당하는 요소들의 visited[i]가 모두 True일 때 호출 그만\n",
    "# (False 일때만 호출한다는건 역으로 True 일때는 호출하지 않겠다는 것)\n",
    "# 분해 : 점점 graph[v]에 해당되는 요소들이 순서대로 True가 되게\n",
    "# 결합 : 따로 리턴은 없고 방문 함과 동시에 출력 해주기\n",
    "\n",
    "def dfs(graph, v, visited):\n",
    "    visited[v] = True\n",
    "    print(v)\n",
    "\n",
    "    for i in graph[v]:\n",
    "        if not visited[i]:\n",
    "            dfs(graph, i, visited)"
   ]
  },
  {
   "cell_type": "markdown",
   "metadata": {},
   "source": [
    "1260"
   ]
  },
  {
   "cell_type": "code",
   "execution_count": 2,
   "metadata": {},
   "outputs": [
    {
     "name": "stdout",
     "output_type": "stream",
     "text": [
      "[4, 5, 1]\n"
     ]
    }
   ],
   "source": [
    "data = list(map(int, input().split()))\n",
    "print(data)"
   ]
  },
  {
   "cell_type": "code",
   "execution_count": 17,
   "metadata": {},
   "outputs": [
    {
     "name": "stdout",
     "output_type": "stream",
     "text": [
      "[[], [], [], [], []]\n"
     ]
    }
   ],
   "source": [
    "N = 4\n",
    "graph = []\n",
    "for _ in range(N+1):\n",
    "    graph.append([])\n",
    "\n",
    "print(graph)"
   ]
  },
  {
   "cell_type": "code",
   "execution_count": 19,
   "metadata": {},
   "outputs": [
    {
     "name": "stdout",
     "output_type": "stream",
     "text": [
      "[[], [2, 3, 4], [1, 4], [1, 4], [1, 2, 3]]\n",
      "[False, False, False, False, False, False]\n"
     ]
    }
   ],
   "source": [
    "N, M, V = list(map(int, input().split()))\n",
    "\n",
    "graph = []\n",
    "\n",
    "for _ in range(N+1):\n",
    "    graph.append([])\n",
    "\n",
    "for i in range(M):\n",
    "    s, e = list(map(int, input().split()))\n",
    "    graph[s].append(e)\n",
    "    graph[e].append(s)\n",
    "\n",
    "visited = [False] * (M+1)\n",
    "\n",
    "print(graph)\n",
    "print(visited)"
   ]
  },
  {
   "cell_type": "code",
   "execution_count": 12,
   "metadata": {},
   "outputs": [
    {
     "name": "stdout",
     "output_type": "stream",
     "text": [
      "1 2 3 4 \n"
     ]
    }
   ],
   "source": [
    "from collections import deque\n",
    "\n",
    "N, M, V = list(map(int, input().split()))\n",
    "\n",
    "def dfs(graph, v, visited):\n",
    "    visited[v] = True\n",
    "    print(v, end=\" \")\n",
    "\n",
    "    for i in graph[v]:\n",
    "        if not visited[i]:\n",
    "            dfs(graph, i, visited)\n",
    "\n",
    "def bfs(graph, start, visited):\n",
    "    need = deque([start])\n",
    "    visited[start] = True\n",
    "\n",
    "    while need:\n",
    "        v = need.popleft()\n",
    "        print(v, end=\" \")\n",
    "\n",
    "        for i in graph[v]:\n",
    "            if not visited[i]:\n",
    "                need.append(i)\n",
    "                visited[i]= True\n",
    "\n",
    "\n",
    "graph = []\n",
    "\n",
    "for i in range(M):\n",
    "    if i == 0:\n",
    "        graph.append([])\n",
    "    s, e = list(map(int, input().split()))\n",
    "    graph[s].append(e)\n",
    "    graph[s].append(e)\n",
    "\n",
    "visited = [False] * (N+1)\n",
    "visited2 = [False] * (N+1)\n",
    "\n",
    "dfs(graph, V, visited)\n",
    "print()\n",
    "# bfs(graph, V, visited2)"
   ]
  },
  {
   "cell_type": "code",
   "execution_count": 20,
   "metadata": {},
   "outputs": [
    {
     "name": "stdout",
     "output_type": "stream",
     "text": [
      "1 2 4 3 \n",
      "1 2 3 4 "
     ]
    }
   ],
   "source": [
    "from collections import deque\n",
    "\n",
    "N, M, V = list(map(int, input().split()))\n",
    "\n",
    "def dfs(graph, v, visited):\n",
    "    visited[v] = True\n",
    "    print(v, end=\" \")\n",
    "\n",
    "    for i in graph[v]:\n",
    "        if not visited[i]:\n",
    "            dfs(graph, i, visited)\n",
    "\n",
    "def bfs(graph, start, visited):\n",
    "    need = deque([start])\n",
    "    visited[start] = True\n",
    "\n",
    "    while need:\n",
    "        v = need.popleft()\n",
    "        print(v, end=\" \")\n",
    "\n",
    "        for i in graph[v]:\n",
    "            if not visited[i]:\n",
    "                need.append(i)\n",
    "                visited[i]= True\n",
    "\n",
    "graph = []\n",
    "\n",
    "for _ in range(N+1):\n",
    "    graph.append([])\n",
    "\n",
    "for i in range(M):\n",
    "    s, e = list(map(int, input().split()))\n",
    "    graph[s].append(e)\n",
    "    graph[e].append(s)\n",
    "\n",
    "visited = [False] * (M+1)\n",
    "visited2 = [False] * (N+1)\n",
    "\n",
    "dfs(graph, V, visited)\n",
    "print()\n",
    "bfs(graph, V, visited2)"
   ]
  },
  {
   "cell_type": "code",
   "execution_count": 21,
   "metadata": {},
   "outputs": [
    {
     "ename": "ValueError",
     "evalue": "not enough values to unpack (expected 3, got 0)",
     "output_type": "error",
     "traceback": [
      "\u001b[1;31m---------------------------------------------------------------------------\u001b[0m",
      "\u001b[1;31mValueError\u001b[0m                                Traceback (most recent call last)",
      "\u001b[1;32mc:\\Users\\손용재\\Desktop\\개발자\\정글\\2주차\\10.25\\prac.ipynb 셀 12\u001b[0m line \u001b[0;36m3\n\u001b[0;32m      <a href='vscode-notebook-cell:/c%3A/Users/%EC%86%90%EC%9A%A9%EC%9E%AC/Desktop/%EA%B0%9C%EB%B0%9C%EC%9E%90/%EC%A0%95%EA%B8%80/2%EC%A3%BC%EC%B0%A8/10.25/prac.ipynb#X15sZmlsZQ%3D%3D?line=0'>1</a>\u001b[0m \u001b[39mfrom\u001b[39;00m \u001b[39mcollections\u001b[39;00m \u001b[39mimport\u001b[39;00m deque\n\u001b[1;32m----> <a href='vscode-notebook-cell:/c%3A/Users/%EC%86%90%EC%9A%A9%EC%9E%AC/Desktop/%EA%B0%9C%EB%B0%9C%EC%9E%90/%EC%A0%95%EA%B8%80/2%EC%A3%BC%EC%B0%A8/10.25/prac.ipynb#X15sZmlsZQ%3D%3D?line=2'>3</a>\u001b[0m N, M, V \u001b[39m=\u001b[39m \u001b[39mlist\u001b[39m(\u001b[39mmap\u001b[39m(\u001b[39mint\u001b[39m, \u001b[39minput\u001b[39m()\u001b[39m.\u001b[39msplit()))\n\u001b[0;32m      <a href='vscode-notebook-cell:/c%3A/Users/%EC%86%90%EC%9A%A9%EC%9E%AC/Desktop/%EA%B0%9C%EB%B0%9C%EC%9E%90/%EC%A0%95%EA%B8%80/2%EC%A3%BC%EC%B0%A8/10.25/prac.ipynb#X15sZmlsZQ%3D%3D?line=4'>5</a>\u001b[0m \u001b[39mdef\u001b[39;00m \u001b[39mdfs\u001b[39m(graph, v, visited):\n\u001b[0;32m      <a href='vscode-notebook-cell:/c%3A/Users/%EC%86%90%EC%9A%A9%EC%9E%AC/Desktop/%EA%B0%9C%EB%B0%9C%EC%9E%90/%EC%A0%95%EA%B8%80/2%EC%A3%BC%EC%B0%A8/10.25/prac.ipynb#X15sZmlsZQ%3D%3D?line=5'>6</a>\u001b[0m     visited[v] \u001b[39m=\u001b[39m \u001b[39mTrue\u001b[39;00m\n",
      "\u001b[1;31mValueError\u001b[0m: not enough values to unpack (expected 3, got 0)"
     ]
    }
   ],
   "source": [
    "from collections import deque\n",
    "\n",
    "N, M, V = list(map(int, input().split()))\n",
    "\n",
    "def dfs(graph, v, visited):\n",
    "    visited[v] = True\n",
    "    print(v, end=\" \")\n",
    "\n",
    "    graph[v].sort()\n",
    "\n",
    "    for i in graph[v]:\n",
    "        if not visited[i]:\n",
    "            dfs(graph, i, visited)\n",
    "\n",
    "def bfs(graph, start, visited):\n",
    "    need = deque([start])\n",
    "    visited[start] = True\n",
    "\n",
    "    while need:\n",
    "        v = need.popleft()\n",
    "        print(v, end=\" \")\n",
    "        \n",
    "        graph[v].sort()\n",
    "\n",
    "        for i in graph[v]:\n",
    "            if not visited[i]:\n",
    "                need.append(i)\n",
    "                visited[i]= True\n",
    "\n",
    "graph = []\n",
    "\n",
    "for _ in range(N+1):\n",
    "    graph.append([])\n",
    "\n",
    "for i in range(M):\n",
    "    s, e = list(map(int, input().split()))\n",
    "    graph[s].append(e)\n",
    "    graph[e].append(s)\n",
    "\n",
    "visited = [False] * (M+1)\n",
    "visited2 = [False] * (N+1)\n",
    "\n",
    "dfs(graph, V, visited)\n",
    "print()\n",
    "bfs(graph, V, visited2)"
   ]
  },
  {
   "cell_type": "code",
   "execution_count": null,
   "metadata": {},
   "outputs": [],
   "source": [
    "from collections import deque\n",
    "\n",
    "N, M, V = list(map(int, input().split()))\n",
    "\n",
    "def dfs(graph, v, visited):\n",
    "    visited[v] = True\n",
    "    print(v, end=\" \")\n",
    "\n",
    "    graph[v].sort()\n",
    "\n",
    "    for i in graph[v]:\n",
    "        if not visited[i]:\n",
    "            dfs(graph, i, visited)\n",
    "\n",
    "def bfs(graph, start, visited):\n",
    "    need = deque([start])\n",
    "    visited[start] = True\n",
    "\n",
    "    while need:\n",
    "        v = need.popleft()\n",
    "        print(v, end=\" \")\n",
    "        \n",
    "        graph[v].sort()\n",
    "\n",
    "        for i in graph[v]:\n",
    "            if not visited[i]:\n",
    "                need.append(i)\n",
    "                visited[i]= True\n",
    "\n",
    "graph = []\n",
    "\n",
    "for _ in range(N+1):\n",
    "    graph.append([])\n",
    "\n",
    "for i in range(M):\n",
    "    s, e = list(map(int, input().split()))\n",
    "    graph[s].append(e)\n",
    "    graph[e].append(s)\n",
    "\n",
    "visited = [False] * (N+1)\n",
    "visited2 = [False] * (N+1)\n",
    "\n",
    "dfs(graph, V, visited)\n",
    "print()\n",
    "bfs(graph, V, visited2)"
   ]
  },
  {
   "cell_type": "markdown",
   "metadata": {},
   "source": [
    "11724"
   ]
  },
  {
   "cell_type": "code",
   "execution_count": 23,
   "metadata": {},
   "outputs": [
    {
     "name": "stdout",
     "output_type": "stream",
     "text": [
      "[[], [2, 5], [1, 5], [4], [3, 6], [2, 1], [4]]\n"
     ]
    }
   ],
   "source": [
    "N, M = list(map(int, input().split()))\n",
    "\n",
    "graph = []\n",
    "\n",
    "for _ in range(N+1):\n",
    "    graph.append([])\n",
    "\n",
    "for i in range(M):\n",
    "    s, e = list(map(int, input().split()))\n",
    "    graph[s].append(e)\n",
    "    graph[e].append(s)\n",
    "\n",
    "print(graph)"
   ]
  },
  {
   "cell_type": "code",
   "execution_count": null,
   "metadata": {},
   "outputs": [],
   "source": [
    "N, M = list(map(int, input().split()))\n",
    "\n",
    "graph = []\n",
    "\n",
    "for _ in range(N+1):\n",
    "    graph.append([])\n",
    "\n",
    "for i in range(M):\n",
    "    s, e = list(map(int, input().split()))\n",
    "    graph[s].append(e)\n",
    "    graph[e].append(s)"
   ]
  },
  {
   "cell_type": "code",
   "execution_count": 27,
   "metadata": {},
   "outputs": [
    {
     "name": "stdout",
     "output_type": "stream",
     "text": [
      "2\n"
     ]
    }
   ],
   "source": [
    "import sys\n",
    "from collections import deque\n",
    "sys.setrecursionlimit(10**8)\n",
    "\n",
    "def bfs(graph, start, visited):\n",
    "    queue = deque([start])\n",
    "    visited[start] = True\n",
    "\n",
    "    while queue:\n",
    "        v = queue.popleft()\n",
    "        for i in graph[v]:\n",
    "            if not visited[i]:\n",
    "                queue.append(i)\n",
    "                visited[i] = True\n",
    "\n",
    "N, M = list(map(int, input().split()))\n",
    "\n",
    "graph = []\n",
    "for _ in range(N+1):\n",
    "    graph.append([])\n",
    "\n",
    "for i in range(M):\n",
    "    s, e = list(map(int, input().split()))\n",
    "    graph[s].append(e)\n",
    "    graph[e].append(s)\n",
    "\n",
    "count = 0 # 연결 노드의 수\n",
    "visited = [False] * (N+1)\n",
    "\n",
    "for i in range(1, N+1):\n",
    "    if not visited[i]:\n",
    "        bfs(graph, i, visited) # bfs 한 번 끝날 때마다 count+1\n",
    "        count += 1\n",
    "\n",
    "print(count)"
   ]
  },
  {
   "cell_type": "code",
   "execution_count": null,
   "metadata": {},
   "outputs": [],
   "source": [
    "from collections import deque\n",
    "\n",
    "N, M = map(int, input().split())\n",
    "\n",
    "# 인접 리스트 초기화\n",
    "graph = [[] for _ in range(N+1)]\n",
    "\n",
    "# 간선 정보 입력 받기\n",
    "for _ in range(M):\n",
    "    s, e = map(int, input().split())\n",
    "    graph[s].append(e)\n",
    "    graph[e].append(s)\n",
    "\n",
    "# 방문 여부를 저장하는 배열\n",
    "visited = [False] * (N+1)\n",
    "\n",
    "def bfs(start):\n",
    "    queue = deque([start])\n",
    "    visited[start] = True\n",
    "\n",
    "    while queue:\n",
    "        v = queue.popleft()\n",
    "        for i in graph[v]:\n",
    "            if not visited[i]:\n",
    "                queue.append(i)\n",
    "                visited[i] = True\n",
    "\n",
    "count = 0 # 연결 노드의 수\n",
    "\n",
    "# 모든 노드에 대해 BFS 실행\n",
    "for i in range(1, N+1):\n",
    "    if not visited[i]:\n",
    "        bfs(i) # BFS 한 번 끝날 때마다 count+1\n",
    "        count += 1\n",
    "\n",
    "print(count)\n"
   ]
  },
  {
   "cell_type": "markdown",
   "metadata": {},
   "source": [
    "2606"
   ]
  },
  {
   "cell_type": "code",
   "execution_count": 44,
   "metadata": {},
   "outputs": [
    {
     "ename": "ValueError",
     "evalue": "invalid literal for int() with base 10: ''",
     "output_type": "error",
     "traceback": [
      "\u001b[1;31m---------------------------------------------------------------------------\u001b[0m",
      "\u001b[1;31mValueError\u001b[0m                                Traceback (most recent call last)",
      "\u001b[1;32mc:\\Users\\손용재\\Desktop\\개발자\\정글\\2주차\\10.25\\prac.ipynb 셀 20\u001b[0m line \u001b[0;36m1\n\u001b[1;32m----> <a href='vscode-notebook-cell:/c%3A/Users/%EC%86%90%EC%9A%A9%EC%9E%AC/Desktop/%EA%B0%9C%EB%B0%9C%EC%9E%90/%EC%A0%95%EA%B8%80/2%EC%A3%BC%EC%B0%A8/10.25/prac.ipynb#X25sZmlsZQ%3D%3D?line=0'>1</a>\u001b[0m n \u001b[39m=\u001b[39m \u001b[39mint\u001b[39;49m(\u001b[39minput\u001b[39;49m())\n\u001b[0;32m      <a href='vscode-notebook-cell:/c%3A/Users/%EC%86%90%EC%9A%A9%EC%9E%AC/Desktop/%EA%B0%9C%EB%B0%9C%EC%9E%90/%EC%A0%95%EA%B8%80/2%EC%A3%BC%EC%B0%A8/10.25/prac.ipynb#X25sZmlsZQ%3D%3D?line=1'>2</a>\u001b[0m m \u001b[39m=\u001b[39m \u001b[39mint\u001b[39m(\u001b[39minput\u001b[39m())\n\u001b[0;32m      <a href='vscode-notebook-cell:/c%3A/Users/%EC%86%90%EC%9A%A9%EC%9E%AC/Desktop/%EA%B0%9C%EB%B0%9C%EC%9E%90/%EC%A0%95%EA%B8%80/2%EC%A3%BC%EC%B0%A8/10.25/prac.ipynb#X25sZmlsZQ%3D%3D?line=3'>4</a>\u001b[0m \u001b[39m#################################\u001b[39;00m\n",
      "\u001b[1;31mValueError\u001b[0m: invalid literal for int() with base 10: ''"
     ]
    }
   ],
   "source": [
    "n = int(input())\n",
    "m = int(input())\n",
    "\n",
    "#################################\n",
    "def dfs(graph, v, visited):\n",
    "    cnt = 0\n",
    "    print(v)\n",
    "    visited[v] = True\n",
    "    cnt = cnt + 1\n",
    "\n",
    "    for i in graph[v]:\n",
    "        if not visited[i]:\n",
    "            dfs(graph,i, visited)\n",
    "    \n",
    "    return cnt\n",
    "#################################\n",
    "\n",
    "graph = []\n",
    "\n",
    "for _ in range(n+1):\n",
    "    graph.append([])\n",
    "\n",
    "# print(graph)\n",
    "\n",
    "for _ in range(m):\n",
    "    s, e = map(int, input().split())\n",
    "\n",
    "    graph[s].append(e)\n",
    "    graph[e].append(s)\n",
    "\n",
    "# print(graph)\n",
    "\n",
    "visited = [False] * (n+1)\n",
    "\n",
    "#####################################\n",
    "\n",
    "dfs(graph, 1, visited)"
   ]
  },
  {
   "cell_type": "code",
   "execution_count": 49,
   "metadata": {},
   "outputs": [
    {
     "name": "stdout",
     "output_type": "stream",
     "text": [
      "1\n",
      "2\n",
      "3\n",
      "5\n",
      "6\n",
      "4\n"
     ]
    }
   ],
   "source": [
    "n = int(input())\n",
    "m = int(input())\n",
    "\n",
    "#################################\n",
    "def dfs(graph, v, visited, cnt):\n",
    "    print(v)\n",
    "    visited[v] = True\n",
    "    cnt = cnt + 1\n",
    "\n",
    "    for i in graph[v]:\n",
    "        if not visited[i]:\n",
    "            cnt = dfs(graph,i, visited, cnt)\n",
    "    \n",
    "    return cnt\n",
    "#################################\n",
    "\n",
    "graph = []\n",
    "\n",
    "for _ in range(n+1):\n",
    "    graph.append([])\n",
    "\n",
    "# print(graph)\n",
    "\n",
    "for _ in range(m):\n",
    "    s, e = map(int, input().split())\n",
    "\n",
    "    graph[s].append(e)\n",
    "    graph[e].append(s)\n",
    "\n",
    "# print(graph)\n",
    "\n",
    "visited = [False] * (n+1)\n",
    "\n",
    "#####################################\n",
    "\n",
    "print(dfs(graph, 1, visited, 0)-1)"
   ]
  },
  {
   "cell_type": "code",
   "execution_count": 56,
   "metadata": {},
   "outputs": [
    {
     "name": "stdout",
     "output_type": "stream",
     "text": [
      "1\n",
      "2\n",
      "3\n",
      "5\n",
      "6\n",
      "[False, True, True, True, False, True, True, False]\n",
      "4\n"
     ]
    }
   ],
   "source": [
    "n = int(input())\n",
    "m = int(input())\n",
    "\n",
    "#################################\n",
    "def dfs(graph, v, visited):\n",
    "    # print(v)\n",
    "    visited[v] = True\n",
    "\n",
    "    for i in graph[v]:\n",
    "        if not visited[i]:\n",
    "            dfs(graph,i, visited)\n",
    "#################################\n",
    "\n",
    "graph = []\n",
    "\n",
    "for _ in range(n+1):\n",
    "    graph.append([])\n",
    "\n",
    "# print(graph)\n",
    "\n",
    "for _ in range(m):\n",
    "    s, e = map(int, input().split())\n",
    "\n",
    "    graph[s].append(e)\n",
    "    graph[e].append(s)\n",
    "\n",
    "# print(graph)\n",
    "\n",
    "visited = [False] * (n+1)\n",
    "\n",
    "#####################################\n",
    "\n",
    "dfs(graph, 1, visited)\n",
    "\n",
    "# print(visited)\n",
    "\n",
    "for i in range(2,n+1):\n",
    "    # print(visited[i])\n",
    "    if visited[i] == True:\n",
    "        cnt = cnt + 1\n",
    "print(cnt)"
   ]
  },
  {
   "cell_type": "markdown",
   "metadata": {},
   "source": [
    "2178"
   ]
  },
  {
   "cell_type": "code",
   "execution_count": null,
   "metadata": {},
   "outputs": [],
   "source": [
    "from collections import deque\n",
    "\n",
    "# N, M을 공백을 기준으로 구분하여 입력 받기\n",
    "n, m = map(int, input().split())\n",
    "# 2차원 리스트의 맵 정보 입력 받기\n",
    "graph = []\n",
    "for i in range(n):\n",
    "    graph.append(list(map(int, input())))\n",
    "\n",
    "# 이동할 네 가지 방향 정의 (상, 하, 좌, 우)\n",
    "dx = [-1, 1, 0, 0]\n",
    "dy = [0, 0, -1, 1]\n",
    "\n",
    "# BFS 소스코드 구현\n",
    "def bfs(x, y):\n",
    "    # 큐(Queue) 구현을 위해 deque 라이브러리 사용\n",
    "    queue = deque()\n",
    "    queue.append((x, y))\n",
    "    # 큐가 빌 때까지 반복하기\n",
    "    while queue:\n",
    "        x, y = queue.popleft()\n",
    "        # 현재 위치에서 4가지 방향으로의 위치 확인\n",
    "        for i in range(4):\n",
    "            nx = x + dx[i]\n",
    "            ny = y + dy[i]\n",
    "            # 미로 찾기 공간을 벗어난 경우 무시\n",
    "            if nx < 0 or nx >= n or ny < 0 or ny >= m:\n",
    "                continue\n",
    "            # 벽인 경우 무시\n",
    "            if graph[nx][ny] == 0:\n",
    "                continue\n",
    "            # 해당 노드를 처음 방문하는 경우에만 최단 거리 기록\n",
    "            if graph[nx][ny] == 1:\n",
    "                graph[nx][ny] = graph[x][y] + 1\n",
    "                queue.append((nx, ny))\n",
    "    # 가장 오른쪽 아래까지의 최단 거리 반환\n",
    "    return graph[n - 1][m - 1]\n",
    "\n",
    "# BFS를 수행한 결과 출력\n",
    "print(bfs(0, 0))"
   ]
  },
  {
   "cell_type": "code",
   "execution_count": 57,
   "metadata": {},
   "outputs": [
    {
     "name": "stdout",
     "output_type": "stream",
     "text": [
      "[1, 0, 1, 1, 1, 1]\n"
     ]
    }
   ],
   "source": [
    "\n",
    "data = list(map(int, input()))\n",
    "print(data)"
   ]
  },
  {
   "cell_type": "code",
   "execution_count": 58,
   "metadata": {},
   "outputs": [
    {
     "ename": "ValueError",
     "evalue": "not enough values to unpack (expected 2, got 0)",
     "output_type": "error",
     "traceback": [
      "\u001b[1;31m---------------------------------------------------------------------------\u001b[0m",
      "\u001b[1;31mValueError\u001b[0m                                Traceback (most recent call last)",
      "\u001b[1;32mc:\\Users\\손용재\\Desktop\\개발자\\정글\\2주차\\10.25\\prac.ipynb 셀 26\u001b[0m line \u001b[0;36m3\n\u001b[0;32m      <a href='vscode-notebook-cell:/c%3A/Users/%EC%86%90%EC%9A%A9%EC%9E%AC/Desktop/%EA%B0%9C%EB%B0%9C%EC%9E%90/%EC%A0%95%EA%B8%80/2%EC%A3%BC%EC%B0%A8/10.25/prac.ipynb#X34sZmlsZQ%3D%3D?line=0'>1</a>\u001b[0m \u001b[39mfrom\u001b[39;00m \u001b[39mcollections\u001b[39;00m \u001b[39mimport\u001b[39;00m deque\n\u001b[1;32m----> <a href='vscode-notebook-cell:/c%3A/Users/%EC%86%90%EC%9A%A9%EC%9E%AC/Desktop/%EA%B0%9C%EB%B0%9C%EC%9E%90/%EC%A0%95%EA%B8%80/2%EC%A3%BC%EC%B0%A8/10.25/prac.ipynb#X34sZmlsZQ%3D%3D?line=2'>3</a>\u001b[0m N, M \u001b[39m=\u001b[39m \u001b[39mmap\u001b[39m(\u001b[39mint\u001b[39m, \u001b[39minput\u001b[39m()\u001b[39m.\u001b[39msplit())\n\u001b[0;32m      <a href='vscode-notebook-cell:/c%3A/Users/%EC%86%90%EC%9A%A9%EC%9E%AC/Desktop/%EA%B0%9C%EB%B0%9C%EC%9E%90/%EC%A0%95%EA%B8%80/2%EC%A3%BC%EC%B0%A8/10.25/prac.ipynb#X34sZmlsZQ%3D%3D?line=4'>5</a>\u001b[0m graph \u001b[39m=\u001b[39m []\n\u001b[0;32m      <a href='vscode-notebook-cell:/c%3A/Users/%EC%86%90%EC%9A%A9%EC%9E%AC/Desktop/%EA%B0%9C%EB%B0%9C%EC%9E%90/%EC%A0%95%EA%B8%80/2%EC%A3%BC%EC%B0%A8/10.25/prac.ipynb#X34sZmlsZQ%3D%3D?line=6'>7</a>\u001b[0m \u001b[39mfor\u001b[39;00m _ \u001b[39min\u001b[39;00m \u001b[39mrange\u001b[39m(N):\n",
      "\u001b[1;31mValueError\u001b[0m: not enough values to unpack (expected 2, got 0)"
     ]
    }
   ],
   "source": [
    "from collections import deque\n",
    "\n",
    "N, M = map(int, input().split())\n",
    "\n",
    "graph = []\n",
    "\n",
    "for _ in range(N):\n",
    "    data = list(map(int, input()))\n",
    "    graph.append(data)\n",
    "\n",
    "dx = [-1,1,0,0]\n",
    "dy = [0,0,-1,1]\n",
    "\n",
    "def bfs(x,y):\n",
    "    need = deque()\n",
    "    need.append((x,y))\n",
    "\n",
    "    while need:\n",
    "        need.popleft()\n",
    "\n",
    "        for i in range(4):\n",
    "            nx = x + dx[i]\n",
    "            ny = y + dy[i]\n",
    "\n",
    "            if nx < 0 or nx >= n or ny < 0 or ny >= m:\n",
    "                continue\n",
    "\n",
    "            if graph[nx][ny] == 0:\n",
    "                continue\n",
    "\n",
    "            if graph[nx][ny] == 1:\n",
    "                graph[nx][ny] = graph[x][y] + 1\n",
    "                need.append((nx,ny))\n",
    "    return graph[nx][ny]"
   ]
  },
  {
   "cell_type": "markdown",
   "metadata": {},
   "source": [
    "18352"
   ]
  },
  {
   "cell_type": "code",
   "execution_count": 62,
   "metadata": {},
   "outputs": [
    {
     "name": "stdout",
     "output_type": "stream",
     "text": [
      "1\n",
      "2\n",
      "3\n",
      "4\n"
     ]
    }
   ],
   "source": [
    "from collections import deque\n",
    "\n",
    "N, M, K, X = map(int, input().split())\n",
    "# 입력 ; 도시 갯수 : N개, 도로 갯수 : M개, 거리정보 : K, 출발 도시 번호 : X도시\n",
    "# 출력 ; X에서 출발하여 거리가 K인 도시들의 번호를 출력\n",
    "\n",
    "graph = []\n",
    "\n",
    "for _ in range(N+1):\n",
    "    graph.append([])\n",
    "\n",
    "for _ in range(M):\n",
    "    s, e = map(int, input().split())\n",
    "\n",
    "    graph[s].append(e)\n",
    "\n",
    "# print(graph)\n",
    "\n",
    "visited = [False] * (N + 1)\n",
    "\n",
    "###################################\n",
    "\n",
    "def bfs(graph, start, visited):\n",
    "    need = deque([start])\n",
    "    visited[start] = True\n",
    "\n",
    "    while need:\n",
    "        v = need.popleft()\n",
    "        print(v)\n",
    "\n",
    "        for i in graph[v]:\n",
    "            if not visited[i]:\n",
    "                need.append(i)\n",
    "                visited[i] = True\n",
    "\n",
    "bfs(graph, X, visited)"
   ]
  },
  {
   "cell_type": "code",
   "execution_count": 66,
   "metadata": {},
   "outputs": [
    {
     "name": "stdout",
     "output_type": "stream",
     "text": [
      "2\n",
      "3\n"
     ]
    }
   ],
   "source": [
    "from collections import deque\n",
    "\n",
    "N, M, K, X = map(int, input().split())\n",
    "# 입력 ; 도시 갯수 : N개, 도로 갯수 : M개, 거리정보 : K, 출발 도시 번호 : X도시\n",
    "# 출력 ; X에서 출발하여 거리가 K인 도시들의 번호를 출력\n",
    "\n",
    "graph = []\n",
    "\n",
    "for _ in range(N+1):\n",
    "    graph.append([])\n",
    "\n",
    "for _ in range(M):\n",
    "    s, e = map(int, input().split())\n",
    "    graph[s].append(e)\n",
    "\n",
    "# print(graph)\n",
    "\n",
    "visited = [False] * (N + 1)\n",
    "\n",
    "distance = [0] * (N + 1)\n",
    "\n",
    "###################################\n",
    "\n",
    "def bfs(graph, start, visited):\n",
    "    need = deque([start])\n",
    "    visited[start] = True\n",
    "\n",
    "    answer = []\n",
    "\n",
    "    while need:\n",
    "        v = need.popleft()\n",
    "        # print(v)\n",
    "\n",
    "        for i in graph[v]:\n",
    "            if not visited[i]:\n",
    "                need.append(i)\n",
    "                visited[i] = True\n",
    "\n",
    "                distance[i] = distance[v] + 1\n",
    "                if distance[i] == K:\n",
    "                    answer.append(i)\n",
    "    \n",
    "    if len(answer) == 0:\n",
    "        print(-1)\n",
    "    else:\n",
    "        answer.sort()\n",
    "        for i in range(len(answer)):\n",
    "            print(answer[i])\n",
    "\n",
    "bfs(graph, X, visited)"
   ]
  },
  {
   "cell_type": "code",
   "execution_count": 68,
   "metadata": {},
   "outputs": [
    {
     "name": "stdout",
     "output_type": "stream",
     "text": [
      "4\n"
     ]
    }
   ],
   "source": [
    "from collections import deque\n",
    "\n",
    "N, M, K, X = map(int, input().split())\n",
    "# 입력 ; 도시 갯수 : N개, 도로 갯수 : M개, 거리정보 : K, 출발 도시 번호 : X도시\n",
    "# 출력 ; X에서 출발하여 거리가 K인 도시들의 번호를 출력\n",
    "\n",
    "graph = []\n",
    "\n",
    "for _ in range(N+1):\n",
    "    graph.append([])\n",
    "\n",
    "for _ in range(M):\n",
    "    s, e = map(int, input().split())\n",
    "\n",
    "    graph[s].append(e)\n",
    "\n",
    "# print(graph)\n",
    "\n",
    "visited = [False] * (N + 1)\n",
    "\n",
    "distance = [0] * (N + 1)\n",
    "\n",
    "###################################\n",
    "\n",
    "def bfs(graph, start, visited):\n",
    "    need = deque([start])\n",
    "    visited[start] = True\n",
    "\n",
    "    ans = []\n",
    "\n",
    "    while need:\n",
    "        v = need.popleft()\n",
    "        # print(v)\n",
    "\n",
    "        for i in graph[v]:\n",
    "            if not visited[i]:\n",
    "                need.append(i)\n",
    "                visited[i] = True\n",
    "\n",
    "                distance[i] = distance[v] + 1\n",
    "\n",
    "                if distance[i] == K:\n",
    "                    ans.append(i)\n",
    "\n",
    "    if len(ans) == 0:\n",
    "        print(-1)\n",
    "    else:\n",
    "        ans.sort()\n",
    "        for i in range(len(ans)):\n",
    "            print(ans[i])\n",
    "\n",
    "bfs(graph, X, visited)"
   ]
  },
  {
   "cell_type": "markdown",
   "metadata": {},
   "source": [
    "2252"
   ]
  },
  {
   "cell_type": "code",
   "execution_count": 69,
   "metadata": {},
   "outputs": [],
   "source": [
    "import sys\n",
    "from collections import deque\n",
    "\n",
    "n, m = map(int, sys.stdin.readline().split())       # n 명의 학생들  /  m 번의 키 비교 횟수\n",
    "\n",
    "inDegree = [0] * (n+1)      # 진입차수(in-degree)가 0인 학생들을 큐에 넣을 것이다.\n",
    "                            # (n+1을 한 이유는, 인덱스로 인해 헷갈리지 않기 위함.)\n",
    "inDegree[0] = -1            # 0번째 인덱스는 -1로 초기화하여 위상 정렬 알고리즘에 영향 받지 않도록.\n",
    "\n",
    "graph = [[] for _ in range(n+1)]\n",
    "\n",
    "need = deque()\n",
    "\n",
    "for _ in range(m):\n",
    "    start, end = map(int, sys.stdin.readline().split())   # 첫째줄 다음으로 입력받는 m 개의 줄에서, 두 학생의 키 비교가 된 결과 입력 받음.\n",
    "    inDegree[end] += 1        # b가 키가 더 크므로, 다른 친구와 비교가 더 되어야 하니까, 진입차수가 늘어나는 것으로 한다.\n",
    "    graph[start].append(end)     # 차수 확인을 위한 리스트 direct\n",
    "\n",
    "for i in range(1, n+1):         # 진입차수가 0인 것을 뽑아내는 과정.(시작점 잡기)\n",
    "    if inDegree[i] == 0:\n",
    "        need.append(i)         # 진입차수가 0인 놈은 큐에 넣어둔다.\n",
    "\n",
    "while need:\n",
    "    v = need.popleft()         # 제일 먼저 큐에 들어온 놈이 키가 제일 작은 놈.\n",
    "    print(v, end=' ')\n",
    "    for i in graph[v]:\n",
    "        inDegree[i] -= 1\n",
    "        if inDegree[i] == 0:\n",
    "            need.append(i)"
   ]
  },
  {
   "cell_type": "code",
   "execution_count": 1,
   "metadata": {},
   "outputs": [
    {
     "name": "stdout",
     "output_type": "stream",
     "text": [
      "[[], [], [], []]\n"
     ]
    }
   ],
   "source": [
    "N = 3\n",
    "\n",
    "graph = []\n",
    "for _ in range(N+1):\n",
    "    graph.append([])\n",
    "\n",
    "print(graph)"
   ]
  },
  {
   "cell_type": "code",
   "execution_count": 2,
   "metadata": {},
   "outputs": [
    {
     "name": "stdout",
     "output_type": "stream",
     "text": [
      "1 2 3 "
     ]
    }
   ],
   "source": [
    "from collections import deque\n",
    "\n",
    "N, M = map(int, input().split())\n",
    "# N은 정점의 갯수, M은 간선의 갯수\n",
    "\n",
    "need = deque()\n",
    "\n",
    "graph = []\n",
    "for _ in range(N+1):\n",
    "    graph.append([])\n",
    "\n",
    "inD = [0] * (N + 1)\n",
    "inD[0] = -1\n",
    "\n",
    "##################################\n",
    "for _ in range(M):\n",
    "    start, end = map(int, input().split())\n",
    "    graph[start].append(end)\n",
    "    inD[end] = inD[end] + 1\n",
    "\n",
    "for i in range(1, N+1):\n",
    "    if inD[i] == 0:\n",
    "        need.append(i)\n",
    "\n",
    "while need:\n",
    "    v = need.popleft()\n",
    "    print(v, end=' ')\n",
    "\n",
    "    for j in graph[v]:\n",
    "        inD[j] = inD[j] - 1\n",
    "\n",
    "        if inD[j] == 0:\n",
    "            need.append(j)"
   ]
  },
  {
   "cell_type": "markdown",
   "metadata": {},
   "source": [
    "2637"
   ]
  },
  {
   "cell_type": "code",
   "execution_count": 4,
   "metadata": {},
   "outputs": [
    {
     "name": "stdout",
     "output_type": "stream",
     "text": [
      "[[0, 0, 0, 0], [0, 0, 0, 0], [0, 0, 0, 0], [0, 0, 0, 0]]\n"
     ]
    }
   ],
   "source": [
    "N = 3\n",
    "\n",
    "data = []\n",
    "for _ in range(N+1):\n",
    "    data.append([0] * (N + 1))\n",
    "\n",
    "print(data)"
   ]
  },
  {
   "cell_type": "code",
   "execution_count": 5,
   "metadata": {},
   "outputs": [],
   "source": [
    "# N : 1~(N-1)까지 기본부품과 중간부품의 번호, N은 완제품의 번호\n",
    "# M : M번 부품의 관계가 반복문\n",
    "# 부품의 관계(X, Y, K) : X를 만드는데 부품(Y)이 K개 필요함\n",
    "\n",
    "N = int(input())\n",
    "M = int(input())\n",
    "\n",
    "graph = []\n",
    "for _ in range(N+1):\n",
    "    graph.append([0] * (N + 1))\n",
    "\n",
    "for _ in range(M):\n",
    "    X, Y, K = map(int, input().split())\n",
    "    graph[Y][X] = K\n",
    "\n",
    "print(data)\n"
   ]
  },
  {
   "cell_type": "code",
   "execution_count": null,
   "metadata": {},
   "outputs": [],
   "source": [
    "# N : 1~(N-1)까지 기본부품과 중간부품의 번호, N은 완제품의 번호\n",
    "# M : M번 부품의 관계가 반복문\n",
    "# 부품의 관계(X, Y, K) : X를 만드는데 부품(Y)이 K개 필요함\n",
    "\n",
    "from collections import deque\n",
    "\n",
    "N = int(input())\n",
    "M = int(input())\n",
    "\n",
    "graph = []\n",
    "for _ in range(N+1):\n",
    "    graph.append([0] * (N + 1))\n",
    "\n",
    "for _ in range(M):\n",
    "    X, Y, K = map(int, input().split())\n",
    "    graph[Y][X] = K\n",
    "\n",
    "need = deque()\n",
    "\n",
    "# 진입차수도 생각해야됨\n",
    "########################################\n",
    "\n",
    "sum = 0\n",
    "\n",
    "for i in range(1, N+1):\n",
    "    for j in range(1, N+1):\n",
    "        # 모든 얘들이 0이라면 얘가 시작정점\n",
    "        sum = sum + graph[j][i]\n",
    "    if sum == 0:\n",
    "        need.append(i)\n",
    "    # 시작 정점 넣기"
   ]
  },
  {
   "cell_type": "code",
   "execution_count": null,
   "metadata": {},
   "outputs": [],
   "source": [
    "# N : 1~(N-1)까지 기본부품과 중간부품의 번호, N은 완제품의 번호\n",
    "# M : M번 부품의 관계가 반복문\n",
    "# 부품의 관계(X, Y, K) : X를 만드는데 부품(Y)이 K개 필요함\n",
    "\n",
    "N = int(input())\n",
    "M = int(input())\n",
    "\n",
    "graph = []\n",
    "for _ in range(N+1):\n",
    "    graph.append([0] * (N + 1))\n",
    "\n",
    "for _ in range(M):\n",
    "    X, Y, K = map(int, input().split())\n",
    "    graph[Y][X] = K\n",
    "\n",
    "print(data)"
   ]
  }
 ],
 "metadata": {
  "kernelspec": {
   "display_name": "Python 3",
   "language": "python",
   "name": "python3"
  },
  "language_info": {
   "codemirror_mode": {
    "name": "ipython",
    "version": 3
   },
   "file_extension": ".py",
   "mimetype": "text/x-python",
   "name": "python",
   "nbconvert_exporter": "python",
   "pygments_lexer": "ipython3",
   "version": "3.11.6"
  }
 },
 "nbformat": 4,
 "nbformat_minor": 2
}
