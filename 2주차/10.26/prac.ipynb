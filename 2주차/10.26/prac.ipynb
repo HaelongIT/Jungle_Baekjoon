{
 "cells": [
  {
   "cell_type": "markdown",
   "metadata": {},
   "source": [
    "2667"
   ]
  },
  {
   "cell_type": "code",
   "execution_count": 4,
   "metadata": {},
   "outputs": [
    {
     "ename": "ValueError",
     "evalue": "invalid literal for int() with base 10: ''",
     "output_type": "error",
     "traceback": [
      "\u001b[1;31m---------------------------------------------------------------------------\u001b[0m",
      "\u001b[1;31mValueError\u001b[0m                                Traceback (most recent call last)",
      "\u001b[1;32mc:\\Users\\손용재\\Desktop\\개발자\\정글\\2주차\\10.26\\prac.ipynb 셀 2\u001b[0m line \u001b[0;36m1\n\u001b[1;32m----> <a href='vscode-notebook-cell:/c%3A/Users/%EC%86%90%EC%9A%A9%EC%9E%AC/Desktop/%EA%B0%9C%EB%B0%9C%EC%9E%90/%EC%A0%95%EA%B8%80/2%EC%A3%BC%EC%B0%A8/10.26/prac.ipynb#W0sZmlsZQ%3D%3D?line=0'>1</a>\u001b[0m N \u001b[39m=\u001b[39m \u001b[39mint\u001b[39;49m(\u001b[39minput\u001b[39;49m())\n\u001b[0;32m      <a href='vscode-notebook-cell:/c%3A/Users/%EC%86%90%EC%9A%A9%EC%9E%AC/Desktop/%EA%B0%9C%EB%B0%9C%EC%9E%90/%EC%A0%95%EA%B8%80/2%EC%A3%BC%EC%B0%A8/10.26/prac.ipynb#W0sZmlsZQ%3D%3D?line=2'>3</a>\u001b[0m graph \u001b[39m=\u001b[39m []\n\u001b[0;32m      <a href='vscode-notebook-cell:/c%3A/Users/%EC%86%90%EC%9A%A9%EC%9E%AC/Desktop/%EA%B0%9C%EB%B0%9C%EC%9E%90/%EC%A0%95%EA%B8%80/2%EC%A3%BC%EC%B0%A8/10.26/prac.ipynb#W0sZmlsZQ%3D%3D?line=4'>5</a>\u001b[0m \u001b[39mfor\u001b[39;00m _ \u001b[39min\u001b[39;00m \u001b[39mrange\u001b[39m(N):\n",
      "\u001b[1;31mValueError\u001b[0m: invalid literal for int() with base 10: ''"
     ]
    }
   ],
   "source": [
    "N = int(input())\n",
    "\n",
    "graph = []\n",
    "\n",
    "for _ in range(N):\n",
    "    data = list(map(int, input()))\n",
    "    graph.append(data)\n",
    "\n",
    "print(graph)\n",
    "\n"
   ]
  },
  {
   "cell_type": "code",
   "execution_count": null,
   "metadata": {},
   "outputs": [],
   "source": [
    "N = int(input())\n",
    "\n",
    "graph = []\n",
    "\n",
    "for _ in range(N):\n",
    "    data = list(map(int, input()))\n",
    "    graph.append(data)\n",
    "\n",
    "dx = [-1,1,0,0]\n",
    "dy = [0,0,-1,1]\n",
    "\n",
    "def bfs(x,y):\n",
    "    need = deque()\n",
    "    need.append((x,y))\n",
    "\n",
    "    while need:\n",
    "        x, y = need.popleft()\n",
    "\n",
    "        for i in range(4):\n",
    "            nx = x + dx[i]\n",
    "            ny = y + dy[i]\n",
    "\n",
    "            if nx < 0 or nx >= N or ny < 0 or ny >= M:\n",
    "                continue\n",
    "\n",
    "            if graph[nx][ny] == 0:\n",
    "                continue\n",
    "\n",
    "            if graph[nx][ny] == 1:\n",
    "                graph[nx][ny] = graph[x][y] + 1\n",
    "                need.append((nx,ny))\n",
    "    return graph[N - 1][M - 1]\n",
    "\n",
    "    \n",
    "    "
   ]
  },
  {
   "cell_type": "markdown",
   "metadata": {},
   "source": [
    "1388"
   ]
  },
  {
   "cell_type": "code",
   "execution_count": 6,
   "metadata": {},
   "outputs": [
    {
     "ename": "ValueError",
     "evalue": "not enough values to unpack (expected 2, got 0)",
     "output_type": "error",
     "traceback": [
      "\u001b[1;31m---------------------------------------------------------------------------\u001b[0m",
      "\u001b[1;31mValueError\u001b[0m                                Traceback (most recent call last)",
      "\u001b[1;32mc:\\Users\\손용재\\Desktop\\개발자\\정글\\2주차\\10.26\\prac.ipynb 셀 5\u001b[0m line \u001b[0;36m1\n\u001b[1;32m----> <a href='vscode-notebook-cell:/c%3A/Users/%EC%86%90%EC%9A%A9%EC%9E%AC/Desktop/%EA%B0%9C%EB%B0%9C%EC%9E%90/%EC%A0%95%EA%B8%80/2%EC%A3%BC%EC%B0%A8/10.26/prac.ipynb#W5sZmlsZQ%3D%3D?line=0'>1</a>\u001b[0m N, M \u001b[39m=\u001b[39m \u001b[39mmap\u001b[39m(\u001b[39mint\u001b[39m, \u001b[39minput\u001b[39m()\u001b[39m.\u001b[39msplit())\n\u001b[0;32m      <a href='vscode-notebook-cell:/c%3A/Users/%EC%86%90%EC%9A%A9%EC%9E%AC/Desktop/%EA%B0%9C%EB%B0%9C%EC%9E%90/%EC%A0%95%EA%B8%80/2%EC%A3%BC%EC%B0%A8/10.26/prac.ipynb#W5sZmlsZQ%3D%3D?line=2'>3</a>\u001b[0m \u001b[39m# print(N, M)\u001b[39;00m\n\u001b[0;32m      <a href='vscode-notebook-cell:/c%3A/Users/%EC%86%90%EC%9A%A9%EC%9E%AC/Desktop/%EA%B0%9C%EB%B0%9C%EC%9E%90/%EC%A0%95%EA%B8%80/2%EC%A3%BC%EC%B0%A8/10.26/prac.ipynb#W5sZmlsZQ%3D%3D?line=4'>5</a>\u001b[0m graph \u001b[39m=\u001b[39m []\n",
      "\u001b[1;31mValueError\u001b[0m: not enough values to unpack (expected 2, got 0)"
     ]
    }
   ],
   "source": [
    "N, M = map(int, input().split())\n",
    "\n",
    "# print(N, M)\n",
    "\n",
    "graph = []\n",
    "\n",
    "for _ in range(N):\n",
    "    data = list(map(int, input()))\n",
    "    graph.append(data)"
   ]
  },
  {
   "cell_type": "code",
   "execution_count": null,
   "metadata": {},
   "outputs": [],
   "source": [
    "N, M = map(int, input().split())\n",
    "\n",
    "graph = []\n",
    "for _ in range(N):\n",
    "    data = list(input())\n",
    "    graph.append(data)\n",
    "\n",
    "visited = []\n",
    "for _ in range(N):\n",
    "    visited.append([])\n",
    "for i in range(M):\n",
    "    visited[i].append([False] * M)\n",
    "\n",
    "###########################\n",
    "\n",
    "def bfs(graph, )"
   ]
  },
  {
   "cell_type": "code",
   "execution_count": null,
   "metadata": {},
   "outputs": [],
   "source": [
    "from collections import deque\n",
    "\n",
    "N, M = map(int, input().split())\n",
    "\n",
    "# 그래프를 인접행렬로 만들기\n",
    "graph = []\n",
    "for _ in range(N):\n",
    "    data = list(input())\n",
    "    graph.append(data)\n",
    "\n",
    "# 방문했는지 안했는지 확인용\n",
    "visited = []\n",
    "for _ in range(N):\n",
    "    visited.append([])\n",
    "for i in range(N):\n",
    "    visited[i].append([False] * M)\n",
    "\n",
    "# print(graph)\n",
    "# print(visited)\n",
    "\n",
    "dx = [-1,1,0,0]\n",
    "dy = [0,0,-1,1]\n",
    "\n",
    "def bfs(x, y):\n",
    "    need = deque()\n",
    "    need.append((x,y))\n",
    "    visited[x][y] = True\n",
    "\n",
    "    while need:\n",
    "        x, y = need.popleft()\n",
    "\n",
    "        for i in range(4):\n",
    "            nx = x + dx[i]\n",
    "            ny = y + dy[i]\n",
    "\n",
    "            if graph[x][y] == '-':\n",
    "                pass\n",
    "            \n",
    "            else:\n",
    "                pass\n",
    "        \n",
    "            if nx < 0 or nx >= N or ny < 0 or ny >= M:\n",
    "                continue\n",
    "\n",
    "            if graph[nx][ny] != graph[x][y]:\n",
    "                continue\n",
    "\n",
    "        \n",
    "\n",
    "#######################################\n",
    "\n"
   ]
  },
  {
   "cell_type": "code",
   "execution_count": 7,
   "metadata": {},
   "outputs": [],
   "source": [
    "N, M = map(int, input().split())\n",
    "\n",
    "# 그래프를 인접행렬로 만들기\n",
    "graph = []\n",
    "for _ in range(N):\n",
    "    data = list(input())\n",
    "    graph.append(data)\n",
    "\n",
    "# 방문했는지 안했는지 확인용\n",
    "visited = []\n",
    "for _ in range(N):\n",
    "    visited.append([])\n",
    "for i in range(N):\n",
    "    visited[i].append([False] * M)"
   ]
  }
 ],
 "metadata": {
  "kernelspec": {
   "display_name": "Python 3",
   "language": "python",
   "name": "python3"
  },
  "language_info": {
   "codemirror_mode": {
    "name": "ipython",
    "version": 3
   },
   "file_extension": ".py",
   "mimetype": "text/x-python",
   "name": "python",
   "nbconvert_exporter": "python",
   "pygments_lexer": "ipython3",
   "version": "3.11.6"
  }
 },
 "nbformat": 4,
 "nbformat_minor": 2
}
